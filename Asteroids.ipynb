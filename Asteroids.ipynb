{
  "nbformat": 4,
  "nbformat_minor": 0,
  "metadata": {
    "colab": {
      "provenance": [],
      "collapsed_sections": [
        "fysbuVI9XOJV",
        "uj81CjVyYLq3",
        "t-2FrplygFdR",
        "fxvq7_-9Xp-S",
        "K4hiAgSCl8wU",
        "mnkIZ3QNnGwB",
        "vmS1YS51XvPm"
      ],
      "mount_file_id": "13qW5CsAIyQjCWftHyPZDtHHBfamiOokU",
      "authorship_tag": "ABX9TyPfvXMqVuwZgClfAGeh/ubu",
      "include_colab_link": true
    },
    "kernelspec": {
      "name": "python3",
      "display_name": "Python 3"
    },
    "language_info": {
      "name": "python"
    }
  },
  "cells": [
    {
      "cell_type": "markdown",
      "metadata": {
        "id": "view-in-github",
        "colab_type": "text"
      },
      "source": [
        "<a href=\"https://colab.research.google.com/github/ciara-bates/Asteroid-prediction-model/blob/main/Asteroids.ipynb\" target=\"_parent\"><img src=\"https://colab.research.google.com/assets/colab-badge.svg\" alt=\"Open In Colab\"/></a>"
      ]
    },
    {
      "cell_type": "markdown",
      "source": [
        "# Setup and Cleaning Data"
      ],
      "metadata": {
        "id": "fysbuVI9XOJV"
      }
    },
    {
      "cell_type": "code",
      "source": [
        "from google.colab import drive\n",
        "drive.mount('/content/drive')"
      ],
      "metadata": {
        "id": "XnFDLsAxsu4D",
        "colab": {
          "base_uri": "https://localhost:8080/"
        },
        "outputId": "baa6b257-1775-4d6a-bbcc-ce23a2ddac7d"
      },
      "execution_count": null,
      "outputs": [
        {
          "output_type": "stream",
          "name": "stdout",
          "text": [
            "Drive already mounted at /content/drive; to attempt to forcibly remount, call drive.mount(\"/content/drive\", force_remount=True).\n"
          ]
        }
      ]
    },
    {
      "cell_type": "code",
      "source": [
        "cd /content/drive/MyDrive/ColabNotebooks/Asteroids"
      ],
      "metadata": {
        "id": "gF_kdwMPszV9",
        "colab": {
          "base_uri": "https://localhost:8080/"
        },
        "outputId": "14c20f02-5e53-4d4d-d8f5-a6100f9489d9"
      },
      "execution_count": null,
      "outputs": [
        {
          "output_type": "stream",
          "name": "stdout",
          "text": [
            "/content/drive/MyDrive/ColabNotebooks/Asteroids\n"
          ]
        }
      ]
    },
    {
      "cell_type": "code",
      "source": [
        "# Loading all the relevant libraries\n",
        "import matplotlib.pyplot as plt\n",
        "import math\n",
        "import numpy as np\n",
        "import pandas as pd\n",
        "from scipy import stats\n",
        "import seaborn as sns\n",
        "from sklearn.model_selection import train_test_split\n",
        "from sklearn.metrics import confusion_matrix, accuracy_score, r2_score, mean_absolute_error, mean_squared_error\n",
        "import sklearn.linear_model\n",
        "\n",
        "# libraries for regression types\n",
        "\n",
        "from sklearn.linear_model import LinearRegression\n",
        "from sklearn.linear_model import ElasticNetCV\n",
        "from sklearn.neighbors import KNeighborsRegressor\n",
        "from sklearn import tree\n",
        "from sklearn.ensemble import RandomForestRegressor\n",
        "from sklearn import svm\n",
        "\n",
        "from tensorflow import keras # all for neural network regression\n",
        "from keras import optimizers  \n",
        "from keras.models import Sequential\n",
        "from keras.layers import Dense, Dropout, BatchNormalization\n",
        "from tensorflow.keras.optimizers import Adam\n",
        "\n",
        "import xgboost as xgb\n",
        "from sklearn.linear_model import LogisticRegression as logreg\n"
      ],
      "metadata": {
        "id": "WTEftmMDsna8"
      },
      "execution_count": null,
      "outputs": []
    },
    {
      "cell_type": "code",
      "source": [
        "# uploading the raw data\n",
        "asteroid_data_raw = pd.read_csv('asteroid_data.csv')\n",
        "#asteroid_data_raw.info(verbose = True) # output info table on raw data\n",
        "\n",
        "# Dropping all columns that have more than half NaN values\n",
        "tooManyNull = asteroid_data_raw.columns[asteroid_data_raw.isna().sum()/asteroid_data_raw.shape[0] > 0.5]\n",
        "asteroid_data = asteroid_data_raw.drop(tooManyNull,axis=1)\n",
        "\n",
        "# dropping columns that have object or string datatype\n",
        "asteroid_data = asteroid_data.drop(['full_name'],axis=1)\n",
        "asteroid_data = asteroid_data.drop(['pha'],axis=1)\n",
        "asteroid_data = asteroid_data.drop(['primary_designation'],axis=1)\n",
        "\n",
        "# Dropping all rows that have one or more NaN values\n",
        "asteroid_data = asteroid_data.dropna()\n",
        "\n",
        "# Showing info table again for cleaned data\n",
        "#asteroid_data.info(verbose = True) \n",
        "\n",
        "asteroid_data.corr()['diameter'].abs().sort_values(ascending=False)\n",
        "plt.hist(asteroid_data['diameter'], bins=50)  # plotting the historgam with 50 bins\n",
        "plt.xlabel('diameter (km)')  # setting the label for the x axis\n",
        "plt.title('Distribution of the Diameter of Near-Earth Asteroids')  # setting the label for the x axis\n",
        "plt.show()\n",
        "asteroid_data['diameter'].describe()"
      ],
      "metadata": {
        "id": "3qiMYFK6Sg6Q",
        "colab": {
          "base_uri": "https://localhost:8080/",
          "height": 458
        },
        "outputId": "338c0f76-536f-4425-8abd-414508a475d3"
      },
      "execution_count": null,
      "outputs": [
        {
          "output_type": "display_data",
          "data": {
            "text/plain": [
              "<Figure size 432x288 with 1 Axes>"
            ],
            "image/png": "[encoded data removed]"
          },
          "metadata": {
            "needs_background": "light"
          }
        },
        {
          "output_type": "execute_result",
          "data": {
            "text/plain": [
              "count    1201.000000\n",
              "mean        1.030211\n",
              "std         1.665018\n",
              "min         0.008000\n",
              "25%         0.308000\n",
              "50%         0.626000\n",
              "75%         1.237000\n",
              "max        37.675000\n",
              "Name: diameter, dtype: float64"
            ]
          },
          "metadata": {},
          "execution_count": 26
        }
      ]
    },
    {
      "cell_type": "code",
      "source": [
        "# changing the diameter column to log(diameter) as this will be relevant\n",
        "asteroid_data['diameter']= asteroid_data['diameter'].apply(np.log)\n",
        "asteroid_data.rename(columns = {'diameter':'log(diameter)'}, inplace = True)\n",
        "\n",
        "# changing the mean_motion to log(mean_motion)\n",
        "asteroid_data['mean_motion']= asteroid_data['mean_motion'].apply(np.log)\n",
        "asteroid_data.rename(columns = {'mean_motion':'log(mean_motion)'}, inplace = True)\n",
        "\n",
        "# changing the moid_earth to log(moid_earth)\n",
        "asteroid_data['moid_earth']= asteroid_data['moid_earth'].apply(np.log)\n",
        "asteroid_data.rename(columns = {'moid_earth':'log(moid_earth)'}, inplace = True)\n",
        "\n",
        "# Showing all column info again\n",
        "asteroid_data.info(verbose = True)\n",
        "asteroid_data.describe()"
      ],
      "metadata": {
        "id": "2wopvZ1Ab_96",
        "colab": {
          "base_uri": "https://localhost:8080/",
          "height": 762
        },
        "outputId": "249e9303-de5c-473d-dffa-33e77170d9df"
      },
      "execution_count": null,
      "outputs": [
        {
          "output_type": "stream",
          "name": "stdout",
          "text": [
            "<class 'pandas.core.frame.DataFrame'>\n",
            "Int64Index: 1201 entries, 0 to 1247\n",
            "Data columns (total 15 columns):\n",
            " #   Column                Non-Null Count  Dtype  \n",
            "---  ------                --------------  -----  \n",
            " 0   log(diameter)         1201 non-null   float64\n",
            " 1   abs_mag               1201 non-null   float64\n",
            " 2   albedo                1201 non-null   float64\n",
            " 3   eccentricity          1201 non-null   float64\n",
            " 4   semimajor_axis        1201 non-null   float64\n",
            " 5   periohelion_distance  1201 non-null   float64\n",
            " 6   inclination_angle     1201 non-null   float64\n",
            " 7   longitude             1201 non-null   float64\n",
            " 8   argument_perihelion   1201 non-null   float64\n",
            " 9   mean_anomely          1201 non-null   float64\n",
            " 10  aphelion_distance     1201 non-null   float64\n",
            " 11  log(mean_motion)      1201 non-null   float64\n",
            " 12  period                1201 non-null   float64\n",
            " 13  log(moid_earth)       1201 non-null   float64\n",
            " 14  moid_jupiter          1201 non-null   float64\n",
            "dtypes: float64(15)\n",
            "memory usage: 150.1 KB\n"
          ]
        },
        {
          "output_type": "execute_result",
          "data": {
            "text/plain": [
              "       log(diameter)      abs_mag       albedo  eccentricity  semimajor_axis  \\\n",
              "count    1201.000000  1201.000000  1201.000000   1201.000000     1201.000000   \n",
              "mean       -0.542250    19.178127     0.172514      0.503752        1.843665   \n",
              "std         1.123180     2.404940     0.144120      0.180699        0.643368   \n",
              "min        -4.828314     9.230000     0.009000      0.030359        0.626200   \n",
              "25%        -1.177655    17.530000     0.047000      0.370995        1.317536   \n",
              "50%        -0.468405    19.100000     0.137000      0.517214        1.805512   \n",
              "75%         0.212689    20.600000     0.256000      0.632463        2.304764   \n",
              "max         3.628997    27.500000     0.856000      0.968606        4.263978   \n",
              "\n",
              "       periohelion_distance  inclination_angle    longitude  \\\n",
              "count           1201.000000        1201.000000  1201.000000   \n",
              "mean               0.845781          18.347801   173.340152   \n",
              "std                0.266841          12.658748    99.936109   \n",
              "min                0.081255           0.314487     1.229480   \n",
              "25%                0.657461           8.451784    88.603359   \n",
              "50%                0.891286          15.730450   166.365020   \n",
              "75%                1.031085          25.496897   255.351947   \n",
              "max                1.299263          71.112911   359.785219   \n",
              "\n",
              "       argument_perihelion  mean_anomely  aphelion_distance  log(mean_motion)  \\\n",
              "count          1201.000000   1201.000000        1201.000000       1201.000000   \n",
              "mean            183.727262    181.851737           2.841550         -0.832634   \n",
              "std             104.725154    105.499224           1.206834          0.562858   \n",
              "min               0.027661      0.297614           0.999937         -2.189801   \n",
              "25%              93.280010     89.575609           1.796675         -1.266964   \n",
              "50%             187.944471    181.025216           2.735159         -0.900764   \n",
              "75%             276.971295    273.774707           3.787042         -0.428142   \n",
              "max             359.876847    358.821259           7.284447          0.687631   \n",
              "\n",
              "            period  log(moid_earth)  moid_jupiter  \n",
              "count  1201.000000      1201.000000   1201.000000  \n",
              "mean    956.236643        -2.693909      2.550262  \n",
              "std     485.048164         1.342001      1.078664  \n",
              "min     180.995718        -9.122733      0.054724  \n",
              "25%     552.385565        -3.495496      1.702870  \n",
              "50%     886.133439        -2.432734      2.653190  \n",
              "75%    1278.021450        -1.632829      3.500300  \n",
              "max    3216.035986        -0.344982      4.422650  "
            ],
            "text/html": [
              "\n",
              "  <div id=\"df-088ccf24-f001-4c2b-9dbd-95a369b9bca8\">\n",
              "    <div class=\"colab-df-container\">\n",
              "      <div>\n",
              "<style scoped>\n",
              "    .dataframe tbody tr th:only-of-type {\n",
              "        vertical-align: middle;\n",
              "    }\n",
              "\n",
              "    .dataframe tbody tr th {\n",
              "        vertical-align: top;\n",
              "    }\n",
              "\n",
              "    .dataframe thead th {\n",
              "        text-align: right;\n",
              "    }\n",
              "</style>\n",
              "<table border=\"1\" class=\"dataframe\">\n",
              "  <thead>\n",
              "    <tr style=\"text-align: right;\">\n",
              "      <th></th>\n",
              "      <th>log(diameter)</th>\n",
              "      <th>abs_mag</th>\n",
              "      <th>albedo</th>\n",
              "      <th>eccentricity</th>\n",
              "      <th>semimajor_axis</th>\n",
              "      <th>periohelion_distance</th>\n",
              "      <th>inclination_angle</th>\n",
              "      <th>longitude</th>\n",
              "      <th>argument_perihelion</th>\n",
              "      <th>mean_anomely</th>\n",
              "      <th>aphelion_distance</th>\n",
              "      <th>log(mean_motion)</th>\n",
              "      <th>period</th>\n",
              "      <th>log(moid_earth)</th>\n",
              "      <th>moid_jupiter</th>\n",
              "    </tr>\n",
              "  </thead>\n",
              "  <tbody>\n",
              "    <tr>\n",
              "      <th>count</th>\n",
              "      <td>1201.000000</td>\n",
              "      <td>1201.000000</td>\n",
              "      <td>1201.000000</td>\n",
              "      <td>1201.000000</td>\n",
              "      <td>1201.000000</td>\n",
              "      <td>1201.000000</td>\n",
              "      <td>1201.000000</td>\n",
              "      <td>1201.000000</td>\n",
              "      <td>1201.000000</td>\n",
              "      <td>1201.000000</td>\n",
              "      <td>1201.000000</td>\n",
              "      <td>1201.000000</td>\n",
              "      <td>1201.000000</td>\n",
              "      <td>1201.000000</td>\n",
              "      <td>1201.000000</td>\n",
              "    </tr>\n",
              "    <tr>\n",
              "      <th>mean</th>\n",
              "      <td>-0.542250</td>\n",
              "      <td>19.178127</td>\n",
              "      <td>0.172514</td>\n",
              "      <td>0.503752</td>\n",
              "      <td>1.843665</td>\n",
              "      <td>0.845781</td>\n",
              "      <td>18.347801</td>\n",
              "      <td>173.340152</td>\n",
              "      <td>183.727262</td>\n",
              "      <td>181.851737</td>\n",
              "      <td>2.841550</td>\n",
              "      <td>-0.832634</td>\n",
              "      <td>956.236643</td>\n",
              "      <td>-2.693909</td>\n",
              "      <td>2.550262</td>\n",
              "    </tr>\n",
              "    <tr>\n",
              "      <th>std</th>\n",
              "      <td>1.123180</td>\n",
              "      <td>2.404940</td>\n",
              "      <td>0.144120</td>\n",
              "      <td>0.180699</td>\n",
              "      <td>0.643368</td>\n",
              "      <td>0.266841</td>\n",
              "      <td>12.658748</td>\n",
              "      <td>99.936109</td>\n",
              "      <td>104.725154</td>\n",
              "      <td>105.499224</td>\n",
              "      <td>1.206834</td>\n",
              "      <td>0.562858</td>\n",
              "      <td>485.048164</td>\n",
              "      <td>1.342001</td>\n",
              "      <td>1.078664</td>\n",
              "    </tr>\n",
              "    <tr>\n",
              "      <th>min</th>\n",
              "      <td>-4.828314</td>\n",
              "      <td>9.230000</td>\n",
              "      <td>0.009000</td>\n",
              "      <td>0.030359</td>\n",
              "      <td>0.626200</td>\n",
              "      <td>0.081255</td>\n",
              "      <td>0.314487</td>\n",
              "      <td>1.229480</td>\n",
              "      <td>0.027661</td>\n",
              "      <td>0.297614</td>\n",
              "      <td>0.999937</td>\n",
              "      <td>-2.189801</td>\n",
              "      <td>180.995718</td>\n",
              "      <td>-9.122733</td>\n",
              "      <td>0.054724</td>\n",
              "    </tr>\n",
              "    <tr>\n",
              "      <th>25%</th>\n",
              "      <td>-1.177655</td>\n",
              "      <td>17.530000</td>\n",
              "      <td>0.047000</td>\n",
              "      <td>0.370995</td>\n",
              "      <td>1.317536</td>\n",
              "      <td>0.657461</td>\n",
              "      <td>8.451784</td>\n",
              "      <td>88.603359</td>\n",
              "      <td>93.280010</td>\n",
              "      <td>89.575609</td>\n",
              "      <td>1.796675</td>\n",
              "      <td>-1.266964</td>\n",
              "      <td>552.385565</td>\n",
              "      <td>-3.495496</td>\n",
              "      <td>1.702870</td>\n",
              "    </tr>\n",
              "    <tr>\n",
              "      <th>50%</th>\n",
              "      <td>-0.468405</td>\n",
              "      <td>19.100000</td>\n",
              "      <td>0.137000</td>\n",
              "      <td>0.517214</td>\n",
              "      <td>1.805512</td>\n",
              "      <td>0.891286</td>\n",
              "      <td>15.730450</td>\n",
              "      <td>166.365020</td>\n",
              "      <td>187.944471</td>\n",
              "      <td>181.025216</td>\n",
              "      <td>2.735159</td>\n",
              "      <td>-0.900764</td>\n",
              "      <td>886.133439</td>\n",
              "      <td>-2.432734</td>\n",
              "      <td>2.653190</td>\n",
              "    </tr>\n",
              "    <tr>\n",
              "      <th>75%</th>\n",
              "      <td>0.212689</td>\n",
              "      <td>20.600000</td>\n",
              "      <td>0.256000</td>\n",
              "      <td>0.632463</td>\n",
              "      <td>2.304764</td>\n",
              "      <td>1.031085</td>\n",
              "      <td>25.496897</td>\n",
              "      <td>255.351947</td>\n",
              "      <td>276.971295</td>\n",
              "      <td>273.774707</td>\n",
              "      <td>3.787042</td>\n",
              "      <td>-0.428142</td>\n",
              "      <td>1278.021450</td>\n",
              "      <td>-1.632829</td>\n",
              "      <td>3.500300</td>\n",
              "    </tr>\n",
              "    <tr>\n",
              "      <th>max</th>\n",
              "      <td>3.628997</td>\n",
              "      <td>27.500000</td>\n",
              "      <td>0.856000</td>\n",
              "      <td>0.968606</td>\n",
              "      <td>4.263978</td>\n",
              "      <td>1.299263</td>\n",
              "      <td>71.112911</td>\n",
              "      <td>359.785219</td>\n",
              "      <td>359.876847</td>\n",
              "      <td>358.821259</td>\n",
              "      <td>7.284447</td>\n",
              "      <td>0.687631</td>\n",
              "      <td>3216.035986</td>\n",
              "      <td>-0.344982</td>\n",
              "      <td>4.422650</td>\n",
              "    </tr>\n",
              "  </tbody>\n",
              "</table>\n",
              "</div>\n",
              "      <button class=\"colab-df-convert\" onclick=\"convertToInteractive('df-088ccf24-f001-4c2b-9dbd-95a369b9bca8')\"\n",
              "              title=\"Convert this dataframe to an interactive table.\"\n",
              "              style=\"display:none;\">\n",
              "        \n",
              "  <svg xmlns=\"http://www.w3.org/2000/svg\" height=\"24px\"viewBox=\"0 0 24 24\"\n",
              "       width=\"24px\">\n",
              "    <path d=\"M0 0h24v24H0V0z\" fill=\"none\"/>\n",
              "    <path d=\"M18.56 5.44l.94 2.06.94-2.06 2.06-.94-2.06-.94-.94-2.06-.94 2.06-2.06.94zm-11 1L8.5 8.5l.94-2.06 2.06-.94-2.06-.94L8.5 2.5l-.94 2.06-2.06.94zm10 10l.94 2.06.94-2.06 2.06-.94-2.06-.94-.94-2.06-.94 2.06-2.06.94z\"/><path d=\"M17.41 7.96l-1.37-1.37c-.4-.4-.92-.59-1.43-.59-.52 0-1.04.2-1.43.59L10.3 9.45l-7.72 7.72c-.78.78-.78 2.05 0 2.83L4 21.41c.39.39.9.59 1.41.59.51 0 1.02-.2 1.41-.59l7.78-7.78 2.81-2.81c.8-.78.8-2.07 0-2.86zM5.41 20L4 18.59l7.72-7.72 1.47 1.35L5.41 20z\"/>\n",
              "  </svg>\n",
              "      </button>\n",
              "      \n",
              "  <style>\n",
              "    .colab-df-container {\n",
              "      display:flex;\n",
              "      flex-wrap:wrap;\n",
              "      gap: 12px;\n",
              "    }\n",
              "\n",
              "    .colab-df-convert {\n",
              "      background-color: #E8F0FE;\n",
              "      border: none;\n",
              "      border-radius: 50%;\n",
              "      cursor: pointer;\n",
              "      display: none;\n",
              "      fill: #1967D2;\n",
              "      height: 32px;\n",
              "      padding: 0 0 0 0;\n",
              "      width: 32px;\n",
              "    }\n",
              "\n",
              "    .colab-df-convert:hover {\n",
              "      background-color: #E2EBFA;\n",
              "      box-shadow: 0px 1px 2px rgba(60, 64, 67, 0.3), 0px 1px 3px 1px rgba(60, 64, 67, 0.15);\n",
              "      fill: #174EA6;\n",
              "    }\n",
              "\n",
              "    [theme=dark] .colab-df-convert {\n",
              "      background-color: #3B4455;\n",
              "      fill: #D2E3FC;\n",
              "    }\n",
              "\n",
              "    [theme=dark] .colab-df-convert:hover {\n",
              "      background-color: #434B5C;\n",
              "      box-shadow: 0px 1px 3px 1px rgba(0, 0, 0, 0.15);\n",
              "      filter: drop-shadow(0px 1px 2px rgba(0, 0, 0, 0.3));\n",
              "      fill: #FFFFFF;\n",
              "    }\n",
              "  </style>\n",
              "\n",
              "      <script>\n",
              "        const buttonEl =\n",
              "          document.querySelector('#df-088ccf24-f001-4c2b-9dbd-95a369b9bca8 button.colab-df-convert');\n",
              "        buttonEl.style.display =\n",
              "          google.colab.kernel.accessAllowed ? 'block' : 'none';\n",
              "\n",
              "        async function convertToInteractive(key) {\n",
              "          const element = document.querySelector('#df-088ccf24-f001-4c2b-9dbd-95a369b9bca8');\n",
              "          const dataTable =\n",
              "            await google.colab.kernel.invokeFunction('convertToInteractive',\n",
              "                                                     [key], {});\n",
              "          if (!dataTable) return;\n",
              "\n",
              "          const docLinkHtml = 'Like what you see? Visit the ' +\n",
              "            '<a target=\"_blank\" href=https://colab.research.google.com/notebooks/data_table.ipynb>data table notebook</a>'\n",
              "            + ' to learn more about interactive tables.';\n",
              "          element.innerHTML = '';\n",
              "          dataTable['output_type'] = 'display_data';\n",
              "          await google.colab.output.renderOutput(dataTable, element);\n",
              "          const docLink = document.createElement('div');\n",
              "          docLink.innerHTML = docLinkHtml;\n",
              "          element.appendChild(docLink);\n",
              "        }\n",
              "      </script>\n",
              "    </div>\n",
              "  </div>\n",
              "  "
            ]
          },
          "metadata": {},
          "execution_count": 27
        }
      ]
    },
    {
      "cell_type": "code",
      "source": [
        "# saving all columns as arrays\n",
        "\n",
        "log_diameter = np.array(asteroid_data['log(diameter)']) # depedant variable = log(diameter)\n",
        "\n",
        "# all independant variables / features\n",
        "abs_mag = np.array(asteroid_data['abs_mag'])\n",
        "albedo = np.array(asteroid_data['albedo'])\n",
        "eccentricity = np.array(asteroid_data['eccentricity'])\n",
        "semimajor_axis = np.array(asteroid_data['semimajor_axis'])\n",
        "periohelion_distance = np.array(asteroid_data['periohelion_distance'])\n",
        "inclination_angle = np.array(asteroid_data['inclination_angle'])\n",
        "longitude = np.array(asteroid_data['longitude'])\n",
        "argument_perihelion = np.array(asteroid_data['argument_perihelion'])\n",
        "mean_anomely = np.array(asteroid_data['mean_anomely'])\n",
        "aphelion_distance = np.array(asteroid_data['aphelion_distance'])\n",
        "log_mean_motion = np.array(asteroid_data['log(mean_motion)'])\n",
        "sidereal_period = np.array(asteroid_data['period'])\n",
        "log_moid_earth = np.array(asteroid_data['log(moid_earth)'])\n",
        "moid_jupiter = np.array(asteroid_data['moid_jupiter'])\n"
      ],
      "metadata": {
        "id": "owZTOgYT4Jbd"
      },
      "execution_count": null,
      "outputs": []
    },
    {
      "cell_type": "markdown",
      "source": [
        "# Functions"
      ],
      "metadata": {
        "id": "uj81CjVyYLq3"
      }
    },
    {
      "cell_type": "code",
      "source": [
        "def plot(prediction):\n",
        "    fig, (ax1, ax2) = plt.subplots(1, 2,figsize=(20,7)) \n",
        "    sns.histplot(Y_val.values, color ='pink',label='Validation values', ax=ax1)\n",
        "    sns.histplot(prediction ,color ='skyblue',label='prediction', ax=ax1)\n",
        "    ax1.set_xlabel('Distribution plot')\n",
        "    ax2.scatter(Y_val,prediction, c='green',label='predictions')\n",
        "    ax2.plot(Y_val,Y_val,c='purple',label='y=x')\n",
        "    ax2.set_xlabel('Real Value of log(diameter)')\n",
        "    ax2.set_ylabel('Predicted value of log(diameter)')\n",
        "    plt.title('Model output from Validation Dataset - Histogram & Scatter Plot')\n",
        "    ax1.legend()\n",
        "    ax2.legend()\n",
        "\n",
        "def plot_test(prediction):\n",
        "    fig, (ax1, ax2) = plt.subplots(1, 2,figsize=(20,7)) \n",
        "    sns.histplot(Y_test.values, color ='pink',label='test values', ax=ax1)\n",
        "    sns.histplot(prediction ,color ='skyblue',label='prediction', ax=ax1)\n",
        "    ax1.set_xlabel('Distribution plot')\n",
        "    ax2.scatter(Y_test,prediction, c='green',label='predictions')\n",
        "    ax2.plot(Y_test,Y_test,c='purple',label='y=x')\n",
        "    ax2.set_xlabel('Real Value of log(diameter)')\n",
        "    ax2.set_ylabel('Predicted value of log(diameter)')\n",
        "    plt.title('Model output from Test Dataset - Histogram and Scatter Plot')\n",
        "    ax1.legend()\n",
        "    ax2.legend()\n",
        "\n",
        "\n",
        "  \n",
        "def disp_r2_score(score):\n",
        "    print('R-squared score:', round(score,4))\n",
        "    return score\n",
        "\n",
        "def adj_r2_score(score, n, p):\n",
        "  # n = 1201\n",
        "  # p = 14\n",
        "  adj_r2 = 1-(1-score)*(n-1)/(n-p-1)\n",
        "  return(adj_r2)\n",
        "\n",
        "def disp_adj_r2_score(score):\n",
        "    print('Adjusted R-squared score:', round(score,4))\n",
        "    return score\n",
        "\n",
        "def disp_RMSE(score):\n",
        "    print('Root Mean Squared Error:', round(score,4))\n",
        "    return score\n",
        "    \n",
        "def disp_MAE(score):\n",
        "    print('Mean Absolute Error:', round(score,4))\n",
        "    return score\n",
        "\n",
        "def feature_plot(classifier, feature_names, top_features=4):\n",
        " coef = classifier.coef_.ravel()\n",
        " top_positive_coefficients = np.argsort(coef)[-top_features:]\n",
        " top_negative_coefficients = np.argsort(coef)[:top_features]\n",
        " top_coefficients = np.hstack([top_negative_coefficients, top_positive_coefficients])\n",
        " plt.figure(figsize=(18, 7))\n",
        " plt.bar(np.arange(2 * top_features), abs(coef[top_coefficients]), color='purple')\n",
        " feature_names = np.array(feature_names)\n",
        " plt.xticks(np.arange(1 + 2 * top_features), feature_names[top_coefficients], rotation=45, ha='right')\n",
        " plt.xlabel('Feature Names')\n",
        " plt.ylabel('Absolute value of vector size coefficient')\n",
        " plt.title('Feature Importance (from coef_ value)')\n",
        " plt.show()\n",
        "\n",
        " table_data = abs(coef[top_coefficients])\n",
        " pd.DataFrame(table_data)\n",
        " print(table_data)\n"
      ],
      "metadata": {
        "id": "WcAe2rW-fiAd"
      },
      "execution_count": null,
      "outputs": []
    },
    {
      "cell_type": "markdown",
      "source": [
        "# Initial Analysis"
      ],
      "metadata": {
        "id": "DuxEmbAMXbJH"
      }
    },
    {
      "cell_type": "code",
      "source": [
        "# Correlation table\n",
        "asteroid_data.corr()['log(diameter)'].abs().sort_values(ascending=False)\n",
        "\n",
        "\n",
        "# correlation plot\n",
        "import seaborn as sns\n",
        "\n",
        "corr=asteroid_data.corr()\n",
        "sns.heatmap(corr, xticklabels=corr.columns.values, yticklabels=corr.columns.values)"
      ],
      "metadata": {
        "colab": {
          "base_uri": "https://localhost:8080/"
        },
        "id": "K2Yfv74gd1lY",
        "outputId": "f8be9c09-75a2-46f1-b61c-eb474b368cf5"
      },
      "execution_count": null,
      "outputs": [
        {
          "output_type": "execute_result",
          "data": {
            "text/plain": [
              "<matplotlib.axes._subplots.AxesSubplot at 0x7f20cc8fa090>"
            ]
          },
          "metadata": {},
          "execution_count": 30
        },
        {
          "output_type": "display_data",
          "data": {
            "text/plain": [
              "<Figure size 432x288 with 2 Axes>"
            ],
            "image/png": "[encoded data removed]"
          },
          "metadata": {
            "needs_background": "light"
          }
        }
      ]
    },
    {
      "cell_type": "code",
      "source": [
        "# plotting all histograms\n",
        "\n",
        "plt.hist(log_diameter, bins=50)  # plotting the historgam with 50 bins\n",
        "plt.xlabel('log(diameter)')  # setting the label for the x axis\n",
        "plt.show()\n",
        "\n",
        "plt.hist(abs_mag, bins=50)  # plotting the historgam with 50 bins\n",
        "plt.xlabel('abs_mag)')  # setting the label for the x axis\n",
        "plt.show()\n",
        "\n",
        "plt.hist(albedo, bins=50)  # plotting the historgam with 50 bins\n",
        "plt.xlabel('albedo')  # setting the label for the x axis\n",
        "plt.show()\n",
        "\n",
        "plt.hist(eccentricity, bins=50)  # plotting the historgam with 50 bins\n",
        "plt.xlabel('eccentricity')  # setting the label for the x axis\n",
        "plt.show()\n",
        "\n",
        "plt.hist(semimajor_axis, bins=50)  # plotting the historgam with 50 bins\n",
        "plt.xlabel('semimajor_axis')  # setting the label for the x axis\n",
        "plt.show()\n",
        "\n",
        "plt.hist(periohelion_distance, bins=50)  # plotting the historgam with 50 bins\n",
        "plt.xlabel('periohelion_distance')  # setting the label for the x axis\n",
        "plt.show()\n",
        "\n",
        "plt.hist(inclination_angle, bins=50)  # plotting the historgam with 50 bins\n",
        "plt.xlabel('inclination_angle')  # setting the label for the x axis\n",
        "plt.show()\n",
        "\n",
        "plt.hist(mean_anomely, bins=50)  # plotting the historgam with 50 bins\n",
        "plt.xlabel('mean_anomely')  # setting the label for the x axis\n",
        "plt.show()\n",
        "\n",
        "plt.hist(aphelion_distance, bins=50)  # plotting the historgam with 50 bins\n",
        "plt.xlabel('aphelion_distance')  # setting the label for the x axis\n",
        "plt.show()\n",
        "\n",
        "plt.hist(log_mean_motion, bins=50)  # plotting the historgam with 50 bins\n",
        "plt.xlabel('log(mean_motion)')  # setting the label for the x axis\n",
        "plt.show()\n",
        "\n",
        "plt.hist(log_moid_earth, bins=50)  # plotting the historgam with 50 bins\n",
        "plt.xlabel('log(moid_earth)')  # setting the label for the x axis\n",
        "plt.show()\n",
        "\n",
        "plt.hist(asteroid_data['moid_jupiter'], bins=50)  # plotting the historgam with 50 bins\n",
        "plt.xlabel('moid_jupiter')  # setting the label for the x axis\n",
        "plt.show()\n",
        "\n",
        "\n"
      ],
      "metadata": {
        "id": "OHzlNmtR2VmS",
        "colab": {
          "base_uri": "https://localhost:8080/"
        },
        "outputId": "33daf2b6-bf82-4613-9e5a-e6b0aaf567c1"
      },
      "execution_count": null,
      "outputs": [
        {
          "output_type": "display_data",
          "data": {
            "text/plain": [
              "<Figure size 432x288 with 1 Axes>"
            ],
            "image/png": "[encoded data removed]"
          },
          "metadata": {
            "needs_background": "light"
          }
        },
        {
          "output_type": "display_data",
          "data": {
            "text/plain": [
              "<Figure size 432x288 with 1 Axes>"
            ],
            "image/png": "[encoded data removed]"
          },
          "metadata": {
            "needs_background": "light"
          }
        },
        {
          "output_type": "display_data",
          "data": {
            "text/plain": [
              "<Figure size 432x288 with 1 Axes>"
            ],
            "image/png": "[encoded data removed]"
          },
          "metadata": {
            "needs_background": "light"
          }
        },
        {
          "output_type": "display_data",
          "data": {
            "text/plain": [
              "<Figure size 432x288 with 1 Axes>"
            ],
            "image/png": "[encoded data removed]"
          },
          "metadata": {
            "needs_background": "light"
          }
        },
        {
          "output_type": "display_data",
          "data": {
            "text/plain": [
              "<Figure size 432x288 with 1 Axes>"
            ],
            "image/png": "[encoded data removed]"
          },
          "metadata": {
            "needs_background": "light"
          }
        },
        {
          "output_type": "display_data",
          "data": {
            "text/plain": [
              "<Figure size 432x288 with 1 Axes>"
            ],
            "image/png": "[encoded data removed]"
          },
          "metadata": {
            "needs_background": "light"
          }
        },
        {
          "output_type": "display_data",
          "data": {
            "text/plain": [
              "<Figure size 432x288 with 1 Axes>"
            ],
            "image/png": "[encoded data removed]"
          },
          "metadata": {
            "needs_background": "light"
          }
        },
        {
          "output_type": "display_data",
          "data": {
            "text/plain": [
              "<Figure size 432x288 with 1 Axes>"
            ],
            "image/png": "[encoded data removed]"
          },
          "metadata": {
            "needs_background": "light"
          }
        },
        {
          "output_type": "display_data",
          "data": {
            "text/plain": [
              "<Figure size 432x288 with 1 Axes>"
            ],
            "image/png": "[encoded data removed]"
          },
          "metadata": {
            "needs_background": "light"
          }
        },
        {
          "output_type": "display_data",
          "data": {
            "text/plain": [
              "<Figure size 432x288 with 1 Axes>"
            ],
            "image/png": "[encoded data removed]"
          },
          "metadata": {
            "needs_background": "light"
          }
        },
        {
          "output_type": "display_data",
          "data": {
            "text/plain": [
              "<Figure size 432x288 with 1 Axes>"
            ],
            "image/png": "[encoded data removed]"
          },
          "metadata": {
            "needs_background": "light"
          }
        },
        {
          "output_type": "display_data",
          "data": {
            "text/plain": [
              "<Figure size 432x288 with 1 Axes>"
            ],
            "image/png": "[encoded data removed]"
          },
          "metadata": {
            "needs_background": "light"
          }
        }
      ]
    },
    {
      "cell_type": "markdown",
      "source": [
        "# Splitting Data\n",
        "#### 60% train, 20% val, 20% test"
      ],
      "metadata": {
        "id": "UIZ-qkxheWGP"
      }
    },
    {
      "cell_type": "code",
      "source": [
        "from sklearn.model_selection import train_test_split\n",
        "\n",
        "predictors = asteroid_data.drop('log(diameter)',axis=1)  # all columns except for log(diameter)\n",
        "target = asteroid_data['log(diameter)']\n",
        "\n",
        "\n",
        "X_train, X_test, Y_train, Y_test = train_test_split(predictors,target,test_size=0.4, random_state = 0)\n",
        "\n",
        "# Use the same function above for the validation set\n",
        "X_train, X_val, Y_train, Y_val = train_test_split(X_train, Y_train,test_size=0.5, random_state= 0) \n"
      ],
      "metadata": {
        "id": "BU9jZRC3eTyA"
      },
      "execution_count": null,
      "outputs": []
    },
    {
      "cell_type": "code",
      "source": [
        "#from sklearn import preprocessing\n",
        "\n",
        "#Input standard normalization:\n",
        "##std_scaler = preprocessing.StandardScaler().fit(X_train)\n",
        "\n",
        "#def scaler(X):\n",
        "    #x_norm_arr= std_scaler.fit_transform(X)\n",
        "    #return pd.DataFrame(x_norm_arr, columns=X.columns, index = X.index)\n",
        "\n",
        "#X_train_norm = scaler(X_train)\n",
        "#X_test_norm = scaler(X_test)\n",
        "\n",
        "#def inverse_scaler(X):\n",
        "    #x_norm_arr= std_scaler.inverse_transform(X)\n",
        "    #return pd.DataFrame(x_norm_arr, columns=X.columns, index = X.index)"
      ],
      "metadata": {
        "id": "xwqcUOppHqSv"
      },
      "execution_count": null,
      "outputs": []
    },
    {
      "cell_type": "markdown",
      "source": [
        "# Normalising Data"
      ],
      "metadata": {
        "id": "t-2FrplygFdR"
      }
    },
    {
      "cell_type": "code",
      "source": [
        "#Standardise the dataset (aka Normalise - mean=0, std=1)\n",
        "#Only the X data needs to be standardised\n",
        "#Standardise all stes (training, validation and testing)\n",
        "\n",
        "\n",
        "#Calculate mean and std of training data set\n",
        "means = X_train.mean(axis=0)\n",
        "std = X_train.std(axis=0)\n",
        "\n",
        "#Standardise all datasets\n",
        "X_train_standardised = (X_train - means)/std\n",
        "X_val_standardised = (X_val - means)/std\n",
        "X_test_standardised = (X_test - means)/std\n",
        "\n",
        "#Output the data to inspect the results (mean should equal 0, std should equal 1)\n",
        "print(X_train_standardised.head())\n",
        "print(X_train_standardised['period'].std())\n",
        "print(X_train_standardised['period'].mean())\n",
        "\n",
        "lst = X_train_standardised.columns.values\n",
        "print(lst)\n",
        "\n",
        "count_std = 0\n",
        "count_mean = 0\n",
        "\n",
        "for i in lst:\n",
        "  std_para = X_train_standardised[i].std()\n",
        "  mean_para = X_train_standardised[i].mean()\n",
        "\n",
        "  if std_para > 0.99 and std_para < 1.01:\n",
        "    count_std += 1\n",
        "  \n",
        "  if mean_para > -0.1 and mean_para < 0.1:\n",
        "    count_mean += 1\n",
        "\n",
        "  if count_std == lst.size:\n",
        "    print(\"All std = 1\")\n",
        "\n",
        "  if count_mean == lst.size:\n",
        "    print(\"All means = 0\")"
      ],
      "metadata": {
        "id": "rbVtSjBPgKE1",
        "colab": {
          "base_uri": "https://localhost:8080/"
        },
        "outputId": "5487a2f0-ab26-4af1-b908-a4de3bd3a637"
      },
      "execution_count": null,
      "outputs": [
        {
          "output_type": "stream",
          "name": "stdout",
          "text": [
            "       abs_mag    albedo  eccentricity  semimajor_axis  periohelion_distance  \\\n",
            "990   0.572405  0.274196     -0.696477       -0.253273              0.720548   \n",
            "103  -0.485837 -0.558032      0.580725       -0.446181             -0.904174   \n",
            "1236  0.700937 -0.558032      0.284592       -1.369795             -1.642903   \n",
            "1030 -0.455846 -0.953340      0.544012        1.570462              1.182129   \n",
            "953   0.182527  0.433706     -0.913567       -1.290638             -0.765533   \n",
            "\n",
            "      inclination_angle  longitude  argument_perihelion  mean_anomely  \\\n",
            "990           -0.532748   1.593805             0.530534      1.558656   \n",
            "103           -0.759392  -0.027441             0.540621     -1.695618   \n",
            "1236           0.947980  -1.479352            -0.482289      0.217164   \n",
            "1030          -0.391045   1.045979             1.622567      0.836082   \n",
            "953            0.405379   0.293259             0.989596     -0.599927   \n",
            "\n",
            "      aphelion_distance  log(mean_motion)    period  log(moid_earth)  \\\n",
            "990           -0.430283          0.070261 -0.329367         0.402237   \n",
            "103           -0.283728          0.280084 -0.505369         0.152643   \n",
            "1236          -1.118278          1.614611 -1.242225        -1.048688   \n",
            "1030           1.435162         -1.362463  1.646221         0.563722   \n",
            "953           -1.224390          1.469582 -1.186586        -0.058512   \n",
            "\n",
            "      moid_jupiter  \n",
            "990       0.166794  \n",
            "103       0.362908  \n",
            "1236      0.978876  \n",
            "1030     -1.762654  \n",
            "953       1.146104  \n",
            "1.0\n",
            "3.7007434154171884e-18\n",
            "['abs_mag' 'albedo' 'eccentricity' 'semimajor_axis' 'periohelion_distance'\n",
            " 'inclination_angle' 'longitude' 'argument_perihelion' 'mean_anomely'\n",
            " 'aphelion_distance' 'log(mean_motion)' 'period' 'log(moid_earth)'\n",
            " 'moid_jupiter']\n",
            "All std = 1\n",
            "All means = 0\n"
          ]
        }
      ]
    },
    {
      "cell_type": "markdown",
      "source": [
        "# Decision Tree regression"
      ],
      "metadata": {
        "id": "K4hiAgSCl8wU"
      }
    },
    {
      "cell_type": "code",
      "source": [
        "regression_names = [] # creating empty lists for algorithm comparisons\n",
        "regression_r2_scores = []\n",
        "regression_adj_r2_scores = []\n",
        "RMSE_list = []\n",
        "MAE_list = []"
      ],
      "metadata": {
        "id": "sp5UsmzM8k_d"
      },
      "execution_count": null,
      "outputs": []
    },
    {
      "cell_type": "code",
      "source": [
        "decTree = tree.DecisionTreeRegressor()\n",
        "decTree = decTree.fit(X_train_standardised,Y_train) # training\n",
        "Y_predicted_tree = decTree.predict(X_val_standardised) # predicting\n",
        "\n",
        "r2_score_tree = r2_score(Y_predicted_tree,Y_val)\n",
        "disp_r2_score(r2_score_tree)\n",
        "\n",
        "adj_r2_score_tree = adj_r2_score(r2_score_tree, len(asteroid_data), len(asteroid_data.columns)-1)\n",
        "disp_adj_r2_score(adj_r2_score_tree)\n",
        "\n",
        "RMSE_tree = math.sqrt(mean_squared_error(Y_val, Y_predicted_tree))\n",
        "disp_RMSE(RMSE_tree)\n",
        "\n",
        "MAE_tree = mean_absolute_error(Y_val, Y_predicted_tree)\n",
        "disp_MAE(MAE_tree)\n",
        "\n",
        "plot(Y_predicted_tree)\n",
        "\n",
        "regression_names.append('Decision Tree')\n",
        "regression_r2_scores.append(r2_score_tree)\n",
        "regression_adj_r2_scores.append(adj_r2_score_tree)\n",
        "RMSE_list.append(RMSE_tree)\n",
        "MAE_list.append(MAE_tree)"
      ],
      "metadata": {
        "colab": {
          "base_uri": "https://localhost:8080/",
          "height": 530
        },
        "id": "tXJU7M4lmCSs",
        "outputId": "88e54ca5-67d9-467e-f8a1-c4162fb9c23a"
      },
      "execution_count": null,
      "outputs": [
        {
          "output_type": "stream",
          "name": "stdout",
          "text": [
            "R-squared score: 0.9319\n",
            "Adjusted R-squared score: 0.9311\n",
            "Root Mean Squared Error: 0.2938\n",
            "Mean Absolute Error: 0.2178\n"
          ]
        },
        {
          "output_type": "display_data",
          "data": {
            "text/plain": [
              "<Figure size 1440x504 with 2 Axes>"
            ],
            "image/png": "[encoded data removed]"
          },
          "metadata": {
            "needs_background": "light"
          }
        }
      ]
    },
    {
      "cell_type": "markdown",
      "source": [
        "# Random Forest regression:"
      ],
      "metadata": {
        "id": "mnkIZ3QNnGwB"
      }
    },
    {
      "cell_type": "code",
      "source": [
        "forest = RandomForestRegressor(max_depth=32, n_estimators=50)\n",
        "forest.fit(X_train_standardised,np.ravel(Y_train)) # training\n",
        "Y_predicted_forest = forest.predict(X_val_standardised) # valing\n",
        "\n",
        "r2_score_forest = r2_score(Y_predicted_forest,Y_val)\n",
        "disp_r2_score(r2_score_forest)\n",
        "\n",
        "adj_r2_score_forest = adj_r2_score(r2_score_forest, len(asteroid_data), len(asteroid_data.columns)-1)\n",
        "disp_adj_r2_score(adj_r2_score_forest)\n",
        "\n",
        "RMSE_forest = math.sqrt(mean_squared_error(Y_val, Y_predicted_forest))\n",
        "disp_RMSE(RMSE_forest)\n",
        "\n",
        "MAE_forest = mean_absolute_error(Y_val, Y_predicted_forest)\n",
        "disp_MAE(MAE_forest)\n",
        "\n",
        "plot(Y_predicted_forest)\n",
        "\n",
        "\n",
        "regression_names.append('Random Forest')\n",
        "regression_r2_scores.append(r2_score_forest)\n",
        "regression_adj_r2_scores.append(adj_r2_score_forest)\n",
        "RMSE_list.append(RMSE_forest)\n",
        "MAE_list.append(MAE_forest)"
      ],
      "metadata": {
        "colab": {
          "base_uri": "https://localhost:8080/",
          "height": 530
        },
        "id": "r-LmfvnYnO1i",
        "outputId": "b1e2bc95-f653-4526-c138-e9348823640a"
      },
      "execution_count": null,
      "outputs": [
        {
          "output_type": "stream",
          "name": "stdout",
          "text": [
            "R-squared score: 0.9541\n",
            "Adjusted R-squared score: 0.9536\n",
            "Root Mean Squared Error: 0.2321\n",
            "Mean Absolute Error: 0.1515\n"
          ]
        },
        {
          "output_type": "display_data",
          "data": {
            "text/plain": [
              "<Figure size 1440x504 with 2 Axes>"
            ],
            "image/png": "[encoded data removed]"
          },
          "metadata": {
            "needs_background": "light"
          }
        }
      ]
    },
    {
      "cell_type": "markdown",
      "source": [
        "# Linear Regression"
      ],
      "metadata": {
        "id": "fxvq7_-9Xp-S"
      }
    },
    {
      "cell_type": "code",
      "source": [
        "lr = LinearRegression()\n",
        "lr.fit(X_train,Y_train)\n",
        "Y_predicted_lr = lr.predict(X_val)\n",
        "\n",
        "r2_score_lr = r2_score(Y_predicted_lr,Y_val)\n",
        "disp_r2_score(r2_score_lr)\n",
        "\n",
        "adj_r2_score_lr = adj_r2_score(r2_score_lr, len(asteroid_data), len(asteroid_data.columns)-1)\n",
        "disp_adj_r2_score(adj_r2_score_lr)\n",
        "\n",
        "RMSE_lr = math.sqrt(mean_squared_error(Y_val, Y_predicted_lr))\n",
        "disp_RMSE(RMSE_lr)\n",
        "\n",
        "MAE_lr = mean_absolute_error(Y_val, Y_predicted_lr)\n",
        "disp_MAE(MAE_lr)\n",
        "\n",
        "plot(Y_predicted_lr)\n",
        "\n",
        "regression_names.append('Linear Regression')\n",
        "regression_r2_scores.append(r2_score_lr)\n",
        "regression_adj_r2_scores.append(adj_r2_score_lr)\n",
        "RMSE_list.append(RMSE_lr)\n",
        "MAE_list.append(MAE_lr)\n"
      ],
      "metadata": {
        "colab": {
          "base_uri": "https://localhost:8080/"
        },
        "id": "43eHp8f_hExN",
        "outputId": "4075b289-1343-4449-86c3-c2833cbd5da4"
      },
      "execution_count": null,
      "outputs": [
        {
          "output_type": "stream",
          "name": "stdout",
          "text": [
            "R-squared score: 0.9588\n",
            "Adjusted R-squared score: 0.9583\n",
            "Root Mean Squared Error: 0.2358\n",
            "Mean Absolute Error: 0.1863\n"
          ]
        },
        {
          "output_type": "display_data",
          "data": {
            "text/plain": [
              "<Figure size 1440x504 with 2 Axes>"
            ],
            "image/png": "[encoded data removed]"
          },
          "metadata": {
            "needs_background": "light"
          }
        }
      ]
    },
    {
      "cell_type": "markdown",
      "source": [
        "# Support Vector Machine Regression"
      ],
      "metadata": {
        "id": "0SGH9A6hn5wq"
      }
    },
    {
      "cell_type": "code",
      "source": [
        "svmreg = svm.SVR(kernel = 'linear')\n",
        "svmreg.fit(X_train_standardised,np.ravel(Y_train)) # training\n",
        "Y_predicted_svm = svmreg.predict(X_val_standardised) # predicting from validation data\n",
        "\n",
        "r2_score_svm = r2_score(Y_predicted_svm,Y_val)\n",
        "disp_r2_score(r2_score_svm)\n",
        "\n",
        "adj_r2_score_svm = adj_r2_score(r2_score_svm,len(asteroid_data), len(asteroid_data.columns)-1)\n",
        "disp_adj_r2_score(adj_r2_score_svm)\n",
        "\n",
        "RMSE_svm = math.sqrt(mean_squared_error(Y_val, Y_predicted_svm))\n",
        "disp_RMSE(RMSE_svm)\n",
        "\n",
        "MAE_svm = mean_absolute_error(Y_val, Y_predicted_svm)\n",
        "disp_MAE(MAE_svm)\n",
        "\n",
        "plot(Y_predicted_svm)\n",
        "\n",
        "regression_names.append('Support Vector Machine')\n",
        "regression_r2_scores.append(r2_score_svm)\n",
        "regression_adj_r2_scores.append(adj_r2_score_svm)\n",
        "RMSE_list.append(RMSE_svm)\n",
        "MAE_list.append(MAE_svm)\n",
        "\n",
        "feature_plot(svmreg, asteroid_data.drop(['log(diameter)'], axis = 1).columns.values, top_features=7)\n"
      ],
      "metadata": {
        "colab": {
          "base_uri": "https://localhost:8080/"
        },
        "id": "raSHWU94n8l-",
        "outputId": "ec022ce9-5707-4d72-feb4-2827567be35f"
      },
      "execution_count": null,
      "outputs": [
        {
          "output_type": "stream",
          "name": "stdout",
          "text": [
            "R-squared score: 0.9598\n",
            "Adjusted R-squared score: 0.9594\n",
            "Root Mean Squared Error: 0.2355\n",
            "Mean Absolute Error: 0.1825\n"
          ]
        },
        {
          "output_type": "display_data",
          "data": {
            "text/plain": [
              "<Figure size 1440x504 with 2 Axes>"
            ],
            "image/png": "[encoded data removed]"
          },
          "metadata": {
            "needs_background": "light"
          }
        },
        {
          "output_type": "display_data",
          "data": {
            "text/plain": [
              "<Figure size 1296x504 with 1 Axes>"
            ],
            "image/png": "[encoded data removed]"
          },
          "metadata": {
            "needs_background": "light"
          }
        },
        {
          "output_type": "stream",
          "name": "stdout",
          "text": [
            "[1.04693592 0.4268887  0.07123761 0.03177625 0.02516592 0.01094836\n",
            " 0.00875628 0.00465915 0.00282993 0.03497411 0.0476395  0.0647405\n",
            " 0.06969293 0.1467638 ]\n"
          ]
        }
      ]
    },
    {
      "cell_type": "markdown",
      "source": [
        "# Which Regression is best?"
      ],
      "metadata": {
        "id": "lzEjBHVCvRjX"
      }
    },
    {
      "cell_type": "code",
      "source": [
        "x = regression_names\n",
        "y = regression_adj_r2_scores\n",
        "\n",
        "fig, ax = plt.subplots()    \n",
        "width = 0.75\n",
        "ind = np.arange(len(y))\n",
        "ax.barh(ind, y, width, color=\"skyblue\")\n",
        "ax.set_yticks(ind+width/2)\n",
        "ax.set_yticklabels(x, minor=False)\n",
        "plt.title('Comparison of Regression Methods using adjusted R^2 Score')\n",
        "plt.xlabel('Adjusted R^2 score')  \n",
        "plt.xlim(0.85, 1)   \n",
        "plt.show()\n"
      ],
      "metadata": {
        "colab": {
          "base_uri": "https://localhost:8080/",
          "height": 295
        },
        "id": "2pKzVSOpvWdd",
        "outputId": "6068cce2-7c61-48ff-eef3-e782ed65edbc"
      },
      "execution_count": null,
      "outputs": [
        {
          "output_type": "display_data",
          "data": {
            "text/plain": [
              "<Figure size 432x288 with 1 Axes>"
            ],
            "image/png": "[encoded data removed]"
          },
          "metadata": {
            "needs_background": "light"
          }
        }
      ]
    },
    {
      "cell_type": "code",
      "source": [
        "x = regression_names\n",
        "y = RMSE_list\n",
        "\n",
        "fig, ax = plt.subplots()    \n",
        "width = 0.75\n",
        "ind = np.arange(len(y))\n",
        "ax.barh(ind, y, width, color=\"pink\")\n",
        "ax.set_yticks(ind+width/2)\n",
        "ax.set_yticklabels(x, minor=False)\n",
        "plt.title('Comparison of Regression Methods using RMSE')\n",
        "plt.xlabel('Root Mean Square Error (RMSE)')  \n",
        "plt.xlim(0, 0.35)   \n",
        "plt.show()"
      ],
      "metadata": {
        "colab": {
          "base_uri": "https://localhost:8080/",
          "height": 295
        },
        "id": "KKJXaTCz5W1H",
        "outputId": "727f9a8c-de62-4f6e-ec43-1075de14700c"
      },
      "execution_count": null,
      "outputs": [
        {
          "output_type": "display_data",
          "data": {
            "text/plain": [
              "<Figure size 432x288 with 1 Axes>"
            ],
            "image/png": "[encoded data removed]"
          },
          "metadata": {
            "needs_background": "light"
          }
        }
      ]
    },
    {
      "cell_type": "code",
      "source": [
        "x = regression_names\n",
        "y = MAE_list\n",
        "\n",
        "fig, ax = plt.subplots()    \n",
        "width = 0.75\n",
        "ind = np.arange(len(y))\n",
        "ax.barh(ind, y, width, color=\"lightgreen\")\n",
        "ax.set_yticks(ind+width/2)\n",
        "ax.set_yticklabels(x, minor=False)\n",
        "plt.title('Comparison of all Regression Method using MAE')\n",
        "plt.xlabel('Mean Absolute Error (MAE)')  \n",
        "plt.xlim(0.1, 0.4)   \n",
        "plt.show()\n"
      ],
      "metadata": {
        "colab": {
          "base_uri": "https://localhost:8080/",
          "height": 295
        },
        "id": "J1cgkR7-6HhT",
        "outputId": "8298abea-39f6-43da-cd8c-3b42b4340842"
      },
      "execution_count": null,
      "outputs": [
        {
          "output_type": "display_data",
          "data": {
            "text/plain": [
              "<Figure size 432x288 with 1 Axes>"
            ],
            "image/png": "[encoded data removed]"
          },
          "metadata": {
            "needs_background": "light"
          }
        }
      ]
    },
    {
      "cell_type": "code",
      "source": [
        "table_data = list(zip(regression_names,regression_adj_r2_scores, RMSE_list, MAE_list))\n",
        "pd.DataFrame(table_data, columns=['Regression Name','Adjusted R^2 Score', 'Root Mean Square Error', 'Mean Absolute Error'])"
      ],
      "metadata": {
        "colab": {
          "base_uri": "https://localhost:8080/",
          "height": 192
        },
        "id": "Vh0MhBgG7FYG",
        "outputId": "3ed9bb27-c914-4ae9-b2df-53b85ce21ae9"
      },
      "execution_count": null,
      "outputs": [
        {
          "output_type": "execute_result",
          "data": {
            "text/plain": [
              "          Regression Name  Adjusted R^2 Score  Root Mean Square Error  \\\n",
              "0           Decision Tree            0.937977                0.281524   \n",
              "1           Random Forest            0.953065                0.234109   \n",
              "2       Linear Regression            0.958319                0.235844   \n",
              "3  Support Vector Machine            0.959358                0.235465   \n",
              "\n",
              "   Mean Absolute Error  \n",
              "0             0.210267  \n",
              "1             1.253250  \n",
              "2             0.186304  \n",
              "3             0.182457  "
            ],
            "text/html": [
              "\n",
              "  <div id=\"df-eedab0ee-ea4f-4f4a-8f5c-7cc86ac1e6f6\">\n",
              "    <div class=\"colab-df-container\">\n",
              "      <div>\n",
              "<style scoped>\n",
              "    .dataframe tbody tr th:only-of-type {\n",
              "        vertical-align: middle;\n",
              "    }\n",
              "\n",
              "    .dataframe tbody tr th {\n",
              "        vertical-align: top;\n",
              "    }\n",
              "\n",
              "    .dataframe thead th {\n",
              "        text-align: right;\n",
              "    }\n",
              "</style>\n",
              "<table border=\"1\" class=\"dataframe\">\n",
              "  <thead>\n",
              "    <tr style=\"text-align: right;\">\n",
              "      <th></th>\n",
              "      <th>Regression Name</th>\n",
              "      <th>Adjusted R^2 Score</th>\n",
              "      <th>Root Mean Square Error</th>\n",
              "      <th>Mean Absolute Error</th>\n",
              "    </tr>\n",
              "  </thead>\n",
              "  <tbody>\n",
              "    <tr>\n",
              "      <th>0</th>\n",
              "      <td>Decision Tree</td>\n",
              "      <td>0.937977</td>\n",
              "      <td>0.281524</td>\n",
              "      <td>0.210267</td>\n",
              "    </tr>\n",
              "    <tr>\n",
              "      <th>1</th>\n",
              "      <td>Random Forest</td>\n",
              "      <td>0.953065</td>\n",
              "      <td>0.234109</td>\n",
              "      <td>1.253250</td>\n",
              "    </tr>\n",
              "    <tr>\n",
              "      <th>2</th>\n",
              "      <td>Linear Regression</td>\n",
              "      <td>0.958319</td>\n",
              "      <td>0.235844</td>\n",
              "      <td>0.186304</td>\n",
              "    </tr>\n",
              "    <tr>\n",
              "      <th>3</th>\n",
              "      <td>Support Vector Machine</td>\n",
              "      <td>0.959358</td>\n",
              "      <td>0.235465</td>\n",
              "      <td>0.182457</td>\n",
              "    </tr>\n",
              "  </tbody>\n",
              "</table>\n",
              "</div>\n",
              "      <button class=\"colab-df-convert\" onclick=\"convertToInteractive('df-eedab0ee-ea4f-4f4a-8f5c-7cc86ac1e6f6')\"\n",
              "              title=\"Convert this dataframe to an interactive table.\"\n",
              "              style=\"display:none;\">\n",
              "        \n",
              "  <svg xmlns=\"http://www.w3.org/2000/svg\" height=\"24px\"viewBox=\"0 0 24 24\"\n",
              "       width=\"24px\">\n",
              "    <path d=\"M0 0h24v24H0V0z\" fill=\"none\"/>\n",
              "    <path d=\"M18.56 5.44l.94 2.06.94-2.06 2.06-.94-2.06-.94-.94-2.06-.94 2.06-2.06.94zm-11 1L8.5 8.5l.94-2.06 2.06-.94-2.06-.94L8.5 2.5l-.94 2.06-2.06.94zm10 10l.94 2.06.94-2.06 2.06-.94-2.06-.94-.94-2.06-.94 2.06-2.06.94z\"/><path d=\"M17.41 7.96l-1.37-1.37c-.4-.4-.92-.59-1.43-.59-.52 0-1.04.2-1.43.59L10.3 9.45l-7.72 7.72c-.78.78-.78 2.05 0 2.83L4 21.41c.39.39.9.59 1.41.59.51 0 1.02-.2 1.41-.59l7.78-7.78 2.81-2.81c.8-.78.8-2.07 0-2.86zM5.41 20L4 18.59l7.72-7.72 1.47 1.35L5.41 20z\"/>\n",
              "  </svg>\n",
              "      </button>\n",
              "      \n",
              "  <style>\n",
              "    .colab-df-container {\n",
              "      display:flex;\n",
              "      flex-wrap:wrap;\n",
              "      gap: 12px;\n",
              "    }\n",
              "\n",
              "    .colab-df-convert {\n",
              "      background-color: #E8F0FE;\n",
              "      border: none;\n",
              "      border-radius: 50%;\n",
              "      cursor: pointer;\n",
              "      display: none;\n",
              "      fill: #1967D2;\n",
              "      height: 32px;\n",
              "      padding: 0 0 0 0;\n",
              "      width: 32px;\n",
              "    }\n",
              "\n",
              "    .colab-df-convert:hover {\n",
              "      background-color: #E2EBFA;\n",
              "      box-shadow: 0px 1px 2px rgba(60, 64, 67, 0.3), 0px 1px 3px 1px rgba(60, 64, 67, 0.15);\n",
              "      fill: #174EA6;\n",
              "    }\n",
              "\n",
              "    [theme=dark] .colab-df-convert {\n",
              "      background-color: #3B4455;\n",
              "      fill: #D2E3FC;\n",
              "    }\n",
              "\n",
              "    [theme=dark] .colab-df-convert:hover {\n",
              "      background-color: #434B5C;\n",
              "      box-shadow: 0px 1px 3px 1px rgba(0, 0, 0, 0.15);\n",
              "      filter: drop-shadow(0px 1px 2px rgba(0, 0, 0, 0.3));\n",
              "      fill: #FFFFFF;\n",
              "    }\n",
              "  </style>\n",
              "\n",
              "      <script>\n",
              "        const buttonEl =\n",
              "          document.querySelector('#df-eedab0ee-ea4f-4f4a-8f5c-7cc86ac1e6f6 button.colab-df-convert');\n",
              "        buttonEl.style.display =\n",
              "          google.colab.kernel.accessAllowed ? 'block' : 'none';\n",
              "\n",
              "        async function convertToInteractive(key) {\n",
              "          const element = document.querySelector('#df-eedab0ee-ea4f-4f4a-8f5c-7cc86ac1e6f6');\n",
              "          const dataTable =\n",
              "            await google.colab.kernel.invokeFunction('convertToInteractive',\n",
              "                                                     [key], {});\n",
              "          if (!dataTable) return;\n",
              "\n",
              "          const docLinkHtml = 'Like what you see? Visit the ' +\n",
              "            '<a target=\"_blank\" href=https://colab.research.google.com/notebooks/data_table.ipynb>data table notebook</a>'\n",
              "            + ' to learn more about interactive tables.';\n",
              "          element.innerHTML = '';\n",
              "          dataTable['output_type'] = 'display_data';\n",
              "          await google.colab.output.renderOutput(dataTable, element);\n",
              "          const docLink = document.createElement('div');\n",
              "          docLink.innerHTML = docLinkHtml;\n",
              "          element.appendChild(docLink);\n",
              "        }\n",
              "      </script>\n",
              "    </div>\n",
              "  </div>\n",
              "  "
            ]
          },
          "metadata": {},
          "execution_count": 292
        }
      ]
    },
    {
      "cell_type": "markdown",
      "source": [
        "# SVM exploring Kernal types (using validation dataset)"
      ],
      "metadata": {
        "id": "p06FFfV-44KN"
      }
    },
    {
      "cell_type": "code",
      "source": [
        "svm_list_names = []\n",
        "svm_list_adj_r2 = []\n",
        "svm_list_RMSE = []\n",
        "svm_list_MAE= []"
      ],
      "metadata": {
        "id": "Mx2jNiczZX4K"
      },
      "execution_count": null,
      "outputs": []
    },
    {
      "cell_type": "code",
      "source": [
        "# SVM with linear kernal \n",
        "\n",
        "svmreg_linear = svm.SVR(kernel = 'linear')\n",
        "svmreg_linear.fit(X_train_standardised,np.ravel(Y_train)) # training\n",
        "Y_predicted_svm_linear = svmreg_linear.predict(X_val_standardised) # predicting test data\n",
        "#plot(Y_predicted_svm_linear)\n",
        "\n",
        "r2_score_svm_linear = r2_score(Y_predicted_svm_linear,Y_val)\n",
        "disp_r2_score(r2_score_svm_linear)\n",
        "\n",
        "adj_r2_score_svm_linear = adj_r2_score(r2_score_svm_linear,len(asteroid_data), len(asteroid_data.columns)-1)\n",
        "disp_adj_r2_score(adj_r2_score_svm_linear)\n",
        "\n",
        "RMSE_svm_linear = math.sqrt(mean_squared_error(Y_val, Y_predicted_svm_linear))\n",
        "disp_RMSE(RMSE_svm_linear)\n",
        "\n",
        "MAE_svm_linear = mean_absolute_error(Y_val, Y_predicted_svm_linear)\n",
        "disp_MAE(MAE_svm_linear)\n",
        "\n",
        "svm_list_names.append('Linear')\n",
        "svm_list_adj_r2.append(r2_score_svm_linear)\n",
        "svm_list_RMSE.append(RMSE_svm_linear)\n",
        "svm_list_MAE.append(MAE_svm_linear)\n"
      ],
      "metadata": {
        "colab": {
          "base_uri": "https://localhost:8080/"
        },
        "id": "1FLmqMHP_2X5",
        "outputId": "5ee6460d-4b43-4af2-8b5a-b3617792457b"
      },
      "execution_count": null,
      "outputs": [
        {
          "output_type": "stream",
          "name": "stdout",
          "text": [
            "R-squared score: 0.9598\n",
            "Adjusted R-squared score: 0.9594\n",
            "Root Mean Squared Error: 0.2355\n",
            "Mean Absolute Error: 0.1825\n"
          ]
        }
      ]
    },
    {
      "cell_type": "code",
      "source": [
        "# SVM with Polynomial kernal (default parameter=3)\n",
        "svmreg_poly = svm.SVR(kernel = 'poly')\n",
        "svmreg_poly.fit(X_train_standardised,np.ravel(Y_train)) # training\n",
        "Y_predicted_svm_poly = svmreg_poly.predict(X_val_standardised) # predicting test data\n",
        "#plot(Y_predicted_svm_poly)\n",
        "\n",
        "r2_score_svm_poly = r2_score(Y_predicted_svm_poly,Y_val)\n",
        "disp_r2_score(r2_score_svm_poly)\n",
        "\n",
        "adj_r2_score_svm_poly = adj_r2_score(r2_score_svm_poly,len(asteroid_data), len(asteroid_data.columns)-1)\n",
        "disp_adj_r2_score(adj_r2_score_svm_poly)\n",
        "\n",
        "RMSE_svm_poly = math.sqrt(mean_squared_error(Y_val, Y_predicted_svm_poly))\n",
        "disp_RMSE(RMSE_svm_poly)\n",
        "\n",
        "MAE_svm_poly = mean_absolute_error(Y_val, Y_predicted_svm_poly)\n",
        "disp_MAE(MAE_svm_poly)\n",
        "\n",
        "svm_list_names.append('Polynomial')\n",
        "svm_list_adj_r2.append(r2_score_svm_poly)\n",
        "svm_list_RMSE.append(RMSE_svm_poly)\n",
        "svm_list_MAE.append(MAE_svm_poly)"
      ],
      "metadata": {
        "colab": {
          "base_uri": "https://localhost:8080/"
        },
        "id": "Ftkh1bsIYgsQ",
        "outputId": "f3871395-e400-497e-e370-0aaaff8ba281"
      },
      "execution_count": null,
      "outputs": [
        {
          "output_type": "stream",
          "name": "stdout",
          "text": [
            "R-squared score: 0.7866\n",
            "Adjusted R-squared score: 0.784\n",
            "Root Mean Squared Error: 0.616\n",
            "Mean Absolute Error: 0.4219\n"
          ]
        }
      ]
    },
    {
      "cell_type": "code",
      "source": [
        "# SVM with rbf kernal\n",
        "svmreg_rbf = svm.SVR(kernel = 'rbf')\n",
        "svmreg_rbf.fit(X_train_standardised,np.ravel(Y_train)) # training\n",
        "Y_predicted_svm_rbf = svmreg_rbf.predict(X_val_standardised) # predicting test data\n",
        "#plot(Y_predicted_svm_rbf)\n",
        "\n",
        "r2_score_svm_rbf = r2_score(Y_predicted_svm_rbf,Y_val)\n",
        "disp_r2_score(r2_score_svm_rbf)\n",
        "\n",
        "adj_r2_score_svm_rbf = adj_r2_score(r2_score_svm_rbf,len(asteroid_data), len(asteroid_data.columns)-1)\n",
        "disp_adj_r2_score(adj_r2_score_svm_rbf)\n",
        "\n",
        "RMSE_svm_rbf = math.sqrt(mean_squared_error(Y_val, Y_predicted_svm_rbf))\n",
        "disp_RMSE(RMSE_svm_rbf)\n",
        "\n",
        "MAE_svm_rbf = mean_absolute_error(Y_val, Y_predicted_svm_rbf)\n",
        "disp_MAE(MAE_svm_rbf)\n",
        "\n",
        "svm_list_names.append('RBF')\n",
        "svm_list_adj_r2.append(r2_score_svm_rbf)\n",
        "svm_list_RMSE.append(RMSE_svm_rbf)\n",
        "svm_list_MAE.append(MAE_svm_rbf)"
      ],
      "metadata": {
        "colab": {
          "base_uri": "https://localhost:8080/"
        },
        "id": "MpYjQFbiYg4Z",
        "outputId": "6f484df0-695e-4bdd-9def-da5e4e2f19e4"
      },
      "execution_count": null,
      "outputs": [
        {
          "output_type": "stream",
          "name": "stdout",
          "text": [
            "R-squared score: 0.846\n",
            "Adjusted R-squared score: 0.8442\n",
            "Root Mean Squared Error: 0.3904\n",
            "Mean Absolute Error: 0.2533\n"
          ]
        }
      ]
    },
    {
      "cell_type": "code",
      "source": [
        "# SVM with Sigmoid kernal\n",
        "svmreg_sigmoid = svm.SVR(kernel = 'sigmoid')\n",
        "svmreg_sigmoid.fit(X_train_standardised,np.ravel(Y_train)) # training\n",
        "Y_predicted_svm_sigmoid = svmreg_sigmoid.predict(X_val_standardised) # predicting test data\n",
        "#plot(Y_predicted_svm_sigmoid)\n",
        "\n",
        "r2_score_svm_sigmoid = r2_score(Y_predicted_svm_sigmoid,Y_val)\n",
        "disp_r2_score(r2_score_svm_sigmoid)\n",
        "\n",
        "adj_r2_score_svm_sigmoid = adj_r2_score(r2_score_svm_sigmoid,len(asteroid_data), len(asteroid_data.columns)-1)\n",
        "disp_adj_r2_score(adj_r2_score_svm_sigmoid)\n",
        "\n",
        "RMSE_svm_sigmoid = math.sqrt(mean_squared_error(Y_val, Y_predicted_svm_sigmoid))\n",
        "disp_RMSE(RMSE_svm_sigmoid)\n",
        "\n",
        "MAE_svm_sigmoid = mean_absolute_error(Y_val, Y_predicted_svm_sigmoid)\n",
        "disp_MAE(MAE_svm_sigmoid)\n",
        "\n",
        "svm_list_names.append('Sigmoid')\n",
        "svm_list_adj_r2.append(r2_score_svm_sigmoid)\n",
        "svm_list_RMSE.append(RMSE_svm_sigmoid)\n",
        "svm_list_MAE.append(MAE_svm_sigmoid)\n"
      ],
      "metadata": {
        "colab": {
          "base_uri": "https://localhost:8080/"
        },
        "id": "ZVAoN_jYYhHJ",
        "outputId": "ce08a443-c377-424b-c5e9-a5d162b92ba6"
      },
      "execution_count": null,
      "outputs": [
        {
          "output_type": "stream",
          "name": "stdout",
          "text": [
            "R-squared score: 0.1484\n",
            "Adjusted R-squared score: 0.1384\n",
            "Root Mean Squared Error: 3.4507\n",
            "Mean Absolute Error: 2.431\n"
          ]
        }
      ]
    },
    {
      "cell_type": "code",
      "source": [
        "# comparing all kernal types in a table\n",
        "table_data = list(zip(svm_list_names,svm_list_adj_r2,svm_list_RMSE,svm_list_MAE))\n",
        "pd.DataFrame(table_data, columns=['Kernal Type','Adjusted R^2 Score', 'Root Mean Square Error', 'Mean Absolute Error'])"
      ],
      "metadata": {
        "colab": {
          "base_uri": "https://localhost:8080/",
          "height": 192
        },
        "id": "obxmnXBHbn0Q",
        "outputId": "15bac4c6-f66b-46be-9800-360196596b0b"
      },
      "execution_count": null,
      "outputs": [
        {
          "output_type": "execute_result",
          "data": {
            "text/plain": [
              "  Kernal Type  Adjusted R^2 Score  Root Mean Square Error  Mean Absolute Error\n",
              "0      Linear            0.959832                0.235465             0.182457\n",
              "1  Polynomial            0.786565                0.616005             0.421906\n",
              "2         RBF            0.845979                0.390412             0.253288\n",
              "3     Sigmoid            0.148449                3.450662             2.431044"
            ],
            "text/html": [
              "\n",
              "  <div id=\"df-9cde4881-08c5-4798-8a83-69c1c27ef14c\">\n",
              "    <div class=\"colab-df-container\">\n",
              "      <div>\n",
              "<style scoped>\n",
              "    .dataframe tbody tr th:only-of-type {\n",
              "        vertical-align: middle;\n",
              "    }\n",
              "\n",
              "    .dataframe tbody tr th {\n",
              "        vertical-align: top;\n",
              "    }\n",
              "\n",
              "    .dataframe thead th {\n",
              "        text-align: right;\n",
              "    }\n",
              "</style>\n",
              "<table border=\"1\" class=\"dataframe\">\n",
              "  <thead>\n",
              "    <tr style=\"text-align: right;\">\n",
              "      <th></th>\n",
              "      <th>Kernal Type</th>\n",
              "      <th>Adjusted R^2 Score</th>\n",
              "      <th>Root Mean Square Error</th>\n",
              "      <th>Mean Absolute Error</th>\n",
              "    </tr>\n",
              "  </thead>\n",
              "  <tbody>\n",
              "    <tr>\n",
              "      <th>0</th>\n",
              "      <td>Linear</td>\n",
              "      <td>0.959832</td>\n",
              "      <td>0.235465</td>\n",
              "      <td>0.182457</td>\n",
              "    </tr>\n",
              "    <tr>\n",
              "      <th>1</th>\n",
              "      <td>Polynomial</td>\n",
              "      <td>0.786565</td>\n",
              "      <td>0.616005</td>\n",
              "      <td>0.421906</td>\n",
              "    </tr>\n",
              "    <tr>\n",
              "      <th>2</th>\n",
              "      <td>RBF</td>\n",
              "      <td>0.845979</td>\n",
              "      <td>0.390412</td>\n",
              "      <td>0.253288</td>\n",
              "    </tr>\n",
              "    <tr>\n",
              "      <th>3</th>\n",
              "      <td>Sigmoid</td>\n",
              "      <td>0.148449</td>\n",
              "      <td>3.450662</td>\n",
              "      <td>2.431044</td>\n",
              "    </tr>\n",
              "  </tbody>\n",
              "</table>\n",
              "</div>\n",
              "      <button class=\"colab-df-convert\" onclick=\"convertToInteractive('df-9cde4881-08c5-4798-8a83-69c1c27ef14c')\"\n",
              "              title=\"Convert this dataframe to an interactive table.\"\n",
              "              style=\"display:none;\">\n",
              "        \n",
              "  <svg xmlns=\"http://www.w3.org/2000/svg\" height=\"24px\"viewBox=\"0 0 24 24\"\n",
              "       width=\"24px\">\n",
              "    <path d=\"M0 0h24v24H0V0z\" fill=\"none\"/>\n",
              "    <path d=\"M18.56 5.44l.94 2.06.94-2.06 2.06-.94-2.06-.94-.94-2.06-.94 2.06-2.06.94zm-11 1L8.5 8.5l.94-2.06 2.06-.94-2.06-.94L8.5 2.5l-.94 2.06-2.06.94zm10 10l.94 2.06.94-2.06 2.06-.94-2.06-.94-.94-2.06-.94 2.06-2.06.94z\"/><path d=\"M17.41 7.96l-1.37-1.37c-.4-.4-.92-.59-1.43-.59-.52 0-1.04.2-1.43.59L10.3 9.45l-7.72 7.72c-.78.78-.78 2.05 0 2.83L4 21.41c.39.39.9.59 1.41.59.51 0 1.02-.2 1.41-.59l7.78-7.78 2.81-2.81c.8-.78.8-2.07 0-2.86zM5.41 20L4 18.59l7.72-7.72 1.47 1.35L5.41 20z\"/>\n",
              "  </svg>\n",
              "      </button>\n",
              "      \n",
              "  <style>\n",
              "    .colab-df-container {\n",
              "      display:flex;\n",
              "      flex-wrap:wrap;\n",
              "      gap: 12px;\n",
              "    }\n",
              "\n",
              "    .colab-df-convert {\n",
              "      background-color: #E8F0FE;\n",
              "      border: none;\n",
              "      border-radius: 50%;\n",
              "      cursor: pointer;\n",
              "      display: none;\n",
              "      fill: #1967D2;\n",
              "      height: 32px;\n",
              "      padding: 0 0 0 0;\n",
              "      width: 32px;\n",
              "    }\n",
              "\n",
              "    .colab-df-convert:hover {\n",
              "      background-color: #E2EBFA;\n",
              "      box-shadow: 0px 1px 2px rgba(60, 64, 67, 0.3), 0px 1px 3px 1px rgba(60, 64, 67, 0.15);\n",
              "      fill: #174EA6;\n",
              "    }\n",
              "\n",
              "    [theme=dark] .colab-df-convert {\n",
              "      background-color: #3B4455;\n",
              "      fill: #D2E3FC;\n",
              "    }\n",
              "\n",
              "    [theme=dark] .colab-df-convert:hover {\n",
              "      background-color: #434B5C;\n",
              "      box-shadow: 0px 1px 3px 1px rgba(0, 0, 0, 0.15);\n",
              "      filter: drop-shadow(0px 1px 2px rgba(0, 0, 0, 0.3));\n",
              "      fill: #FFFFFF;\n",
              "    }\n",
              "  </style>\n",
              "\n",
              "      <script>\n",
              "        const buttonEl =\n",
              "          document.querySelector('#df-9cde4881-08c5-4798-8a83-69c1c27ef14c button.colab-df-convert');\n",
              "        buttonEl.style.display =\n",
              "          google.colab.kernel.accessAllowed ? 'block' : 'none';\n",
              "\n",
              "        async function convertToInteractive(key) {\n",
              "          const element = document.querySelector('#df-9cde4881-08c5-4798-8a83-69c1c27ef14c');\n",
              "          const dataTable =\n",
              "            await google.colab.kernel.invokeFunction('convertToInteractive',\n",
              "                                                     [key], {});\n",
              "          if (!dataTable) return;\n",
              "\n",
              "          const docLinkHtml = 'Like what you see? Visit the ' +\n",
              "            '<a target=\"_blank\" href=https://colab.research.google.com/notebooks/data_table.ipynb>data table notebook</a>'\n",
              "            + ' to learn more about interactive tables.';\n",
              "          element.innerHTML = '';\n",
              "          dataTable['output_type'] = 'display_data';\n",
              "          await google.colab.output.renderOutput(dataTable, element);\n",
              "          const docLink = document.createElement('div');\n",
              "          docLink.innerHTML = docLinkHtml;\n",
              "          element.appendChild(docLink);\n",
              "        }\n",
              "      </script>\n",
              "    </div>\n",
              "  </div>\n",
              "  "
            ]
          },
          "metadata": {},
          "execution_count": 41
        }
      ]
    },
    {
      "cell_type": "markdown",
      "source": [
        "# SVM - feature selection (using validation dataset)"
      ],
      "metadata": {
        "id": "ThVgxmV-tj6Q"
      }
    },
    {
      "cell_type": "code",
      "source": [
        "feature_selection_number = []\n",
        "feature_selection_adj_r2 = []\n",
        "feature_selection_RMSE = []\n",
        "feature_selection_MAE= []"
      ],
      "metadata": {
        "id": "AKxZMY8Vdgwv"
      },
      "execution_count": null,
      "outputs": []
    },
    {
      "cell_type": "code",
      "source": [
        "# SVM linear with 14 most significant features\n",
        "X_train_standardised_14 = X_train_standardised[['abs_mag', 'albedo', 'period', 'aphelion_distance', 'moid_jupiter','log(mean_motion)','semimajor_axis', 'periohelion_distance', 'inclination_angle', 'eccentricity', 'argument_perihelion', 'log(mean_motion)','mean_anomely','longitude']]\n",
        "X_val_standardised_14 = X_val_standardised[['abs_mag', 'albedo', 'period', 'aphelion_distance', 'moid_jupiter','log(mean_motion)','semimajor_axis', 'periohelion_distance', 'inclination_angle', 'eccentricity', 'argument_perihelion', 'log(mean_motion)','mean_anomely','longitude']]\n",
        "\n",
        "svmreg14 = svm.SVR(kernel = 'linear')\n",
        "svmreg14.fit(X_train_standardised_14,np.ravel(Y_train)) # training\n",
        "Y_predicted_svm_14 = svmreg14.predict(X_val_standardised_14) # predicting from validation data\n",
        "\n",
        "#plot(Y_predicted_svm_2)\n",
        "\n",
        "r2_score_svm_14= r2_score(Y_predicted_svm_14,Y_val)\n",
        "disp_r2_score(r2_score_svm_14)\n",
        "\n",
        "adj_r2_score_svm_14 = adj_r2_score(r2_score_svm_14,len(asteroid_data), 14)\n",
        "disp_adj_r2_score(adj_r2_score_svm_14)\n",
        "\n",
        "RMSE_svm_14 = math.sqrt(mean_squared_error(Y_val, Y_predicted_svm_14))\n",
        "disp_RMSE(RMSE_svm_14)\n",
        "\n",
        "MAE_svm_14 = mean_absolute_error(Y_val, Y_predicted_svm_14)\n",
        "disp_MAE(MAE_svm_14)\n",
        "\n",
        "feature_selection_number.append('14')\n",
        "feature_selection_adj_r2.append(r2_score_svm_14)\n",
        "feature_selection_RMSE.append(RMSE_svm_14)\n",
        "feature_selection_MAE.append(MAE_svm_14)"
      ],
      "metadata": {
        "colab": {
          "base_uri": "https://localhost:8080/"
        },
        "id": "l0WcFzzvriUJ",
        "outputId": "44ac0b17-361f-493a-9ef8-59a116d5eb8b"
      },
      "execution_count": null,
      "outputs": [
        {
          "output_type": "stream",
          "name": "stdout",
          "text": [
            "R-squared score: 0.9604\n",
            "Adjusted R-squared score: 0.96\n",
            "Root Mean Squared Error: 0.2333\n",
            "Mean Absolute Error: 0.1814\n"
          ]
        }
      ]
    },
    {
      "cell_type": "code",
      "source": [
        "# SVM linear with 13 most significant features\n",
        "# SVM linear with 13 most significant features\n",
        "X_train_standardised_13 = X_train_standardised[['abs_mag', 'albedo', 'period', 'aphelion_distance', 'moid_jupiter','log(mean_motion)','semimajor_axis', 'periohelion_distance', 'inclination_angle', 'eccentricity', 'argument_perihelion', 'log(mean_motion)','mean_anomely']]\n",
        "X_val_standardised_13 = X_val_standardised[['abs_mag', 'albedo', 'period', 'aphelion_distance', 'moid_jupiter','log(mean_motion)','semimajor_axis', 'periohelion_distance', 'inclination_angle', 'eccentricity', 'argument_perihelion', 'log(mean_motion)','mean_anomely']]\n",
        "\n",
        "svmreg13 = svm.SVR(kernel = 'linear')\n",
        "svmreg13.fit(X_train_standardised_13,np.ravel(Y_train)) # training\n",
        "Y_predicted_svm_13 = svmreg13.predict(X_val_standardised_13) # predicting from validation data\n",
        "\n",
        "#plot(Y_predicted_svm_2)\n",
        "\n",
        "r2_score_svm_13= r2_score(Y_predicted_svm_13,Y_val)\n",
        "disp_r2_score(r2_score_svm_13)\n",
        "\n",
        "adj_r2_score_svm_13 = adj_r2_score(r2_score_svm_13,len(asteroid_data), 13)\n",
        "disp_adj_r2_score(adj_r2_score_svm_13)\n",
        "\n",
        "RMSE_svm_13 = math.sqrt(mean_squared_error(Y_val, Y_predicted_svm_13))\n",
        "disp_RMSE(RMSE_svm_13)\n",
        "\n",
        "MAE_svm_13 = mean_absolute_error(Y_val, Y_predicted_svm_13)\n",
        "disp_MAE(MAE_svm_13)\n",
        "\n",
        "feature_selection_number.append('13')\n",
        "feature_selection_adj_r2.append(r2_score_svm_13)\n",
        "feature_selection_RMSE.append(RMSE_svm_13)\n",
        "feature_selection_MAE.append(MAE_svm_13)"
      ],
      "metadata": {
        "colab": {
          "base_uri": "https://localhost:8080/"
        },
        "id": "QfaEP5-8rieS",
        "outputId": "1c26c3ea-389e-4143-fad5-8300289154ed"
      },
      "execution_count": null,
      "outputs": [
        {
          "output_type": "stream",
          "name": "stdout",
          "text": [
            "R-squared score: 0.9604\n",
            "Adjusted R-squared score: 0.96\n",
            "Root Mean Squared Error: 0.2338\n",
            "Mean Absolute Error: 0.1802\n"
          ]
        }
      ]
    },
    {
      "cell_type": "code",
      "source": [
        "# SVM linear with 12 most significant features\n",
        "X_train_standardised_12 = X_train_standardised[['abs_mag', 'albedo', 'period', 'aphelion_distance', 'moid_jupiter','log(mean_motion)','semimajor_axis', 'periohelion_distance', 'inclination_angle', 'eccentricity', 'argument_perihelion', 'log(mean_motion)']]\n",
        "X_val_standardised_12 = X_val_standardised[['abs_mag', 'albedo', 'period', 'aphelion_distance', 'moid_jupiter','log(mean_motion)','semimajor_axis', 'periohelion_distance', 'inclination_angle', 'eccentricity', 'argument_perihelion', 'log(mean_motion)']]\n",
        "\n",
        "svmreg12 = svm.SVR(kernel = 'linear')\n",
        "svmreg12.fit(X_train_standardised_12,np.ravel(Y_train)) # training\n",
        "Y_predicted_svm_12 = svmreg12.predict(X_val_standardised_12) # predicting from validation data\n",
        "\n",
        "#plot(Y_predicted_svm_2)\n",
        "\n",
        "r2_score_svm_12= r2_score(Y_predicted_svm_12,Y_val)\n",
        "disp_r2_score(r2_score_svm_12)\n",
        "\n",
        "adj_r2_score_svm_12 = adj_r2_score(r2_score_svm_12,len(asteroid_data), 12)\n",
        "disp_adj_r2_score(adj_r2_score_svm_12)\n",
        "\n",
        "RMSE_svm_12 = math.sqrt(mean_squared_error(Y_val, Y_predicted_svm_12))\n",
        "disp_RMSE(RMSE_svm_12)\n",
        "\n",
        "MAE_svm_12 = mean_absolute_error(Y_val, Y_predicted_svm_12)\n",
        "disp_MAE(MAE_svm_12)\n",
        "\n",
        "feature_selection_number.append('12')\n",
        "feature_selection_adj_r2.append(r2_score_svm_12)\n",
        "feature_selection_RMSE.append(RMSE_svm_12)\n",
        "feature_selection_MAE.append(MAE_svm_12)"
      ],
      "metadata": {
        "colab": {
          "base_uri": "https://localhost:8080/"
        },
        "id": "eTQyOZ1wrinu",
        "outputId": "b1bce784-c351-4a5b-cbb6-a9f1d89fc9c4"
      },
      "execution_count": null,
      "outputs": [
        {
          "output_type": "stream",
          "name": "stdout",
          "text": [
            "R-squared score: 0.9603\n",
            "Adjusted R-squared score: 0.9599\n",
            "Root Mean Squared Error: 0.2349\n",
            "Mean Absolute Error: 0.1802\n"
          ]
        }
      ]
    },
    {
      "cell_type": "code",
      "source": [
        "# SVM linear with 11 most significant features\n",
        "X_train_standardised_11 = X_train_standardised[['abs_mag', 'albedo', 'period', 'aphelion_distance', 'moid_jupiter','log(mean_motion)','semimajor_axis', 'periohelion_distance', 'inclination_angle', 'eccentricity', 'argument_perihelion']]\n",
        "X_val_standardised_11 = X_val_standardised[['abs_mag', 'albedo', 'period', 'aphelion_distance', 'moid_jupiter','log(mean_motion)','semimajor_axis', 'periohelion_distance', 'inclination_angle', 'eccentricity', 'argument_perihelion']]\n",
        "\n",
        "svmreg11 = svm.SVR(kernel = 'linear')\n",
        "svmreg11.fit(X_train_standardised_11,np.ravel(Y_train)) # training\n",
        "Y_predicted_svm_11 = svmreg11.predict(X_val_standardised_11) # predicting from validation data\n",
        "\n",
        "#plot(Y_predicted_svm_2)\n",
        "\n",
        "r2_score_svm_11= r2_score(Y_predicted_svm_11,Y_val)\n",
        "disp_r2_score(r2_score_svm_11)\n",
        "\n",
        "adj_r2_score_svm_11 = adj_r2_score(r2_score_svm_11,len(asteroid_data), 11)\n",
        "disp_adj_r2_score(adj_r2_score_svm_11)\n",
        "\n",
        "RMSE_svm_11 = math.sqrt(mean_squared_error(Y_val, Y_predicted_svm_11))\n",
        "disp_RMSE(RMSE_svm_11)\n",
        "\n",
        "MAE_svm_11 = mean_absolute_error(Y_val, Y_predicted_svm_11)\n",
        "disp_MAE(MAE_svm_11)\n",
        "\n",
        "feature_selection_number.append('11')\n",
        "feature_selection_adj_r2.append(r2_score_svm_11)\n",
        "feature_selection_RMSE.append(RMSE_svm_11)\n",
        "feature_selection_MAE.append(MAE_svm_11)"
      ],
      "metadata": {
        "colab": {
          "base_uri": "https://localhost:8080/"
        },
        "id": "CyXhG0XkrixQ",
        "outputId": "a39b43d2-e87a-46ed-c560-4a9c64a9afb6"
      },
      "execution_count": null,
      "outputs": [
        {
          "output_type": "stream",
          "name": "stdout",
          "text": [
            "R-squared score: 0.9603\n",
            "Adjusted R-squared score: 0.9599\n",
            "Root Mean Squared Error: 0.2349\n",
            "Mean Absolute Error: 0.1802\n"
          ]
        }
      ]
    },
    {
      "cell_type": "code",
      "source": [
        "# SVM linear with 10 most significant features\n",
        "X_train_standardised_10 = X_train_standardised[['abs_mag', 'albedo', 'period', 'aphelion_distance', 'moid_jupiter','log(mean_motion)','semimajor_axis', 'periohelion_distance', 'inclination_angle', 'eccentricity']]\n",
        "X_val_standardised_10 = X_val_standardised[['abs_mag', 'albedo', 'period', 'aphelion_distance', 'moid_jupiter','log(mean_motion)','semimajor_axis', 'periohelion_distance', 'inclination_angle', 'eccentricity']]\n",
        "\n",
        "svmreg10 = svm.SVR(kernel = 'linear')\n",
        "svmreg10.fit(X_train_standardised_10,np.ravel(Y_train)) # training\n",
        "Y_predicted_svm_10 = svmreg10.predict(X_val_standardised_10) # predicting from validation data\n",
        "\n",
        "#plot(Y_predicted_svm_2)\n",
        "\n",
        "r2_score_svm_10= r2_score(Y_predicted_svm_10,Y_val)\n",
        "disp_r2_score(r2_score_svm_10)\n",
        "\n",
        "adj_r2_score_svm_10 = adj_r2_score(r2_score_svm_10,len(asteroid_data), 10)\n",
        "disp_adj_r2_score(adj_r2_score_svm_10)\n",
        "\n",
        "RMSE_svm_10 = math.sqrt(mean_squared_error(Y_val, Y_predicted_svm_10))\n",
        "disp_RMSE(RMSE_svm_10)\n",
        "\n",
        "MAE_svm_10 = mean_absolute_error(Y_val, Y_predicted_svm_10)\n",
        "disp_MAE(MAE_svm_10)\n",
        "\n",
        "feature_selection_number.append('10')\n",
        "feature_selection_adj_r2.append(r2_score_svm_10)\n",
        "feature_selection_RMSE.append(RMSE_svm_10)\n",
        "feature_selection_MAE.append(MAE_svm_10)"
      ],
      "metadata": {
        "colab": {
          "base_uri": "https://localhost:8080/"
        },
        "id": "TyanvZ-EpWfy",
        "outputId": "7eda6437-f060-4bb8-ea83-0cfd82026197"
      },
      "execution_count": null,
      "outputs": [
        {
          "output_type": "stream",
          "name": "stdout",
          "text": [
            "R-squared score: 0.9603\n",
            "Adjusted R-squared score: 0.96\n",
            "Root Mean Squared Error: 0.2345\n",
            "Mean Absolute Error: 0.1801\n"
          ]
        }
      ]
    },
    {
      "cell_type": "code",
      "source": [
        "# SVM linear with 9 most significant features\n",
        "X_train_standardised_9 = X_train_standardised[['abs_mag', 'albedo', 'period', 'aphelion_distance', 'moid_jupiter','log(mean_motion)','semimajor_axis', 'periohelion_distance', 'inclination_angle']]\n",
        "X_val_standardised_9 = X_val_standardised[['abs_mag', 'albedo', 'period', 'aphelion_distance', 'moid_jupiter','log(mean_motion)','semimajor_axis', 'periohelion_distance', 'inclination_angle']]\n",
        "\n",
        "svmreg9 = svm.SVR(kernel = 'linear')\n",
        "svmreg9.fit(X_train_standardised_9,np.ravel(Y_train)) # training\n",
        "Y_predicted_svm_9 = svmreg9.predict(X_val_standardised_9) # predicting from validation data\n",
        "\n",
        "#plot(Y_predicted_svm_2)\n",
        "\n",
        "r2_score_svm_9= r2_score(Y_predicted_svm_9,Y_val)\n",
        "disp_r2_score(r2_score_svm_9)\n",
        "\n",
        "adj_r2_score_svm_9 = adj_r2_score(r2_score_svm_9,len(asteroid_data), 9)\n",
        "disp_adj_r2_score(adj_r2_score_svm_9)\n",
        "\n",
        "RMSE_svm_9 = math.sqrt(mean_squared_error(Y_val, Y_predicted_svm_9))\n",
        "disp_RMSE(RMSE_svm_9)\n",
        "\n",
        "MAE_svm_9 = mean_absolute_error(Y_val, Y_predicted_svm_9)\n",
        "disp_MAE(MAE_svm_9)\n",
        "\n",
        "feature_selection_number.append('9')\n",
        "feature_selection_adj_r2.append(r2_score_svm_9)\n",
        "feature_selection_RMSE.append(RMSE_svm_9)\n",
        "feature_selection_MAE.append(MAE_svm_9)"
      ],
      "metadata": {
        "colab": {
          "base_uri": "https://localhost:8080/"
        },
        "id": "_DODSRdupW0g",
        "outputId": "183c89b7-6466-490c-a3ca-69decb61a0d2"
      },
      "execution_count": null,
      "outputs": [
        {
          "output_type": "stream",
          "name": "stdout",
          "text": [
            "R-squared score: 0.9605\n",
            "Adjusted R-squared score: 0.9602\n",
            "Root Mean Squared Error: 0.234\n",
            "Mean Absolute Error: 0.1804\n"
          ]
        }
      ]
    },
    {
      "cell_type": "code",
      "source": [
        "# SVM linear with 8 most significant features\n",
        "\n",
        "X_train_standardised_8 = X_train_standardised[['abs_mag', 'albedo', 'period', 'aphelion_distance', 'moid_jupiter','log(mean_motion)','semimajor_axis', 'periohelion_distance']]\n",
        "X_val_standardised_8 = X_val_standardised[['abs_mag', 'albedo', 'period', 'aphelion_distance', 'moid_jupiter','log(mean_motion)','semimajor_axis', 'periohelion_distance']]\n",
        "\n",
        "svmreg8 = svm.SVR(kernel = 'linear')\n",
        "svmreg8.fit(X_train_standardised_8,np.ravel(Y_train)) # training\n",
        "Y_predicted_svm_8 = svmreg8.predict(X_val_standardised_8) # predicting from validation data\n",
        "\n",
        "#plot(Y_predicted_svm_2)\n",
        "\n",
        "r2_score_svm_8= r2_score(Y_predicted_svm_8,Y_val)\n",
        "disp_r2_score(r2_score_svm_8)\n",
        "\n",
        "adj_r2_score_svm_8 = adj_r2_score(r2_score_svm_8,len(asteroid_data), 8)\n",
        "disp_adj_r2_score(adj_r2_score_svm_8)\n",
        "\n",
        "RMSE_svm_8 = math.sqrt(mean_squared_error(Y_val, Y_predicted_svm_8))\n",
        "disp_RMSE(RMSE_svm_8)\n",
        "\n",
        "MAE_svm_8 = mean_absolute_error(Y_val, Y_predicted_svm_8)\n",
        "disp_MAE(MAE_svm_8)\n",
        "\n",
        "feature_selection_number.append('8')\n",
        "feature_selection_adj_r2.append(r2_score_svm_8)\n",
        "feature_selection_RMSE.append(RMSE_svm_8)\n",
        "feature_selection_MAE.append(MAE_svm_8)"
      ],
      "metadata": {
        "colab": {
          "base_uri": "https://localhost:8080/"
        },
        "id": "ghXmom75pXAV",
        "outputId": "a9367367-a8f0-4ffe-cf87-5f380c3cde22"
      },
      "execution_count": null,
      "outputs": [
        {
          "output_type": "stream",
          "name": "stdout",
          "text": [
            "R-squared score: 0.9607\n",
            "Adjusted R-squared score: 0.9605\n",
            "Root Mean Squared Error: 0.2338\n",
            "Mean Absolute Error: 0.1812\n"
          ]
        }
      ]
    },
    {
      "cell_type": "code",
      "source": [
        "# SVM linear with 7 most significant features\n",
        "\n",
        "X_train_standardised_7 = X_train_standardised[['abs_mag', 'albedo', 'period', 'aphelion_distance', 'moid_jupiter','log(mean_motion)','semimajor_axis']]\n",
        "X_val_standardised_7 = X_val_standardised[['abs_mag', 'albedo', 'period', 'aphelion_distance', 'moid_jupiter','log(mean_motion)','semimajor_axis' ]]\n",
        "\n",
        "svmreg7 = svm.SVR(kernel = 'linear')\n",
        "svmreg7.fit(X_train_standardised_7,np.ravel(Y_train)) # training\n",
        "Y_predicted_svm_7 = svmreg7.predict(X_val_standardised_7) # predicting from validation data\n",
        "\n",
        "#plot(Y_predicted_svm_2)\n",
        "\n",
        "r2_score_svm_7= r2_score(Y_predicted_svm_7,Y_val)\n",
        "disp_r2_score(r2_score_svm_7)\n",
        "\n",
        "adj_r2_score_svm_7 = adj_r2_score(r2_score_svm_7,len(asteroid_data), 7)\n",
        "disp_adj_r2_score(adj_r2_score_svm_7)\n",
        "\n",
        "RMSE_svm_7 = math.sqrt(mean_squared_error(Y_val, Y_predicted_svm_7))\n",
        "disp_RMSE(RMSE_svm_7)\n",
        "\n",
        "MAE_svm_7 = mean_absolute_error(Y_val, Y_predicted_svm_7)\n",
        "disp_MAE(MAE_svm_7)\n",
        "\n",
        "feature_selection_number.append('7')\n",
        "feature_selection_adj_r2.append(r2_score_svm_7)\n",
        "feature_selection_RMSE.append(RMSE_svm_7)\n",
        "feature_selection_MAE.append(MAE_svm_7)"
      ],
      "metadata": {
        "colab": {
          "base_uri": "https://localhost:8080/"
        },
        "id": "Nij5RqZ7pXOt",
        "outputId": "adf4d83c-ada4-4cff-fa40-5dbe083c8d01"
      },
      "execution_count": null,
      "outputs": [
        {
          "output_type": "stream",
          "name": "stdout",
          "text": [
            "R-squared score: 0.9607\n",
            "Adjusted R-squared score: 0.9605\n",
            "Root Mean Squared Error: 0.2337\n",
            "Mean Absolute Error: 0.1811\n"
          ]
        }
      ]
    },
    {
      "cell_type": "code",
      "source": [
        "# SVM linear with 6 most significant features\n",
        "\n",
        "X_train_standardised_6 = X_train_standardised[['abs_mag', 'albedo', 'period', 'aphelion_distance', 'moid_jupiter','log(mean_motion)']]\n",
        "X_val_standardised_6 = X_val_standardised[['abs_mag', 'albedo', 'period', 'aphelion_distance', 'moid_jupiter','log(mean_motion)']]\n",
        "\n",
        "svmreg6 = svm.SVR(kernel = 'linear')\n",
        "svmreg6.fit(X_train_standardised_6,np.ravel(Y_train)) # training\n",
        "Y_predicted_svm_6 = svmreg6.predict(X_val_standardised_6) # predicting from validation data\n",
        "\n",
        "#plot(Y_predicted_svm_2)\n",
        "\n",
        "r2_score_svm_6= r2_score(Y_predicted_svm_6,Y_val)\n",
        "disp_r2_score(r2_score_svm_6)\n",
        "\n",
        "adj_r2_score_svm_6 = adj_r2_score(r2_score_svm_6,len(asteroid_data), 6)\n",
        "disp_adj_r2_score(adj_r2_score_svm_6)\n",
        "\n",
        "RMSE_svm_6 = math.sqrt(mean_squared_error(Y_val, Y_predicted_svm_6))\n",
        "disp_RMSE(RMSE_svm_6)\n",
        "\n",
        "MAE_svm_6 = mean_absolute_error(Y_val, Y_predicted_svm_6)\n",
        "disp_MAE(MAE_svm_6)\n",
        "\n",
        "feature_selection_number.append('6')\n",
        "feature_selection_adj_r2.append(r2_score_svm_6)\n",
        "feature_selection_RMSE.append(RMSE_svm_6)\n",
        "feature_selection_MAE.append(MAE_svm_6)\n"
      ],
      "metadata": {
        "colab": {
          "base_uri": "https://localhost:8080/"
        },
        "id": "H3GEr9Urud1C",
        "outputId": "5b9b1c3c-11df-4598-d055-2169195850c8"
      },
      "execution_count": null,
      "outputs": [
        {
          "output_type": "stream",
          "name": "stdout",
          "text": [
            "R-squared score: 0.9607\n",
            "Adjusted R-squared score: 0.9605\n",
            "Root Mean Squared Error: 0.2335\n",
            "Mean Absolute Error: 0.1809\n"
          ]
        }
      ]
    },
    {
      "cell_type": "code",
      "source": [
        "# SVM linear with 5 most significant features\n",
        "\n",
        "X_train_standardised_5 = X_train_standardised[['abs_mag', 'albedo', 'period', 'aphelion_distance', 'moid_jupiter']]\n",
        "X_val_standardised_5 = X_val_standardised[['abs_mag', 'albedo', 'period', 'aphelion_distance', 'moid_jupiter']]\n",
        "\n",
        "svmreg5 = svm.SVR(kernel = 'linear')\n",
        "svmreg5.fit(X_train_standardised_5,np.ravel(Y_train)) # training\n",
        "Y_predicted_svm_5 = svmreg5.predict(X_val_standardised_5) # predicting from validation data\n",
        "\n",
        "#plot(Y_predicted_svm_2)\n",
        "\n",
        "r2_score_svm_5= r2_score(Y_predicted_svm_5,Y_val)\n",
        "disp_r2_score(r2_score_svm_5)\n",
        "\n",
        "adj_r2_score_svm_5 = adj_r2_score(r2_score_svm_5,len(asteroid_data), 5)\n",
        "disp_adj_r2_score(adj_r2_score_svm_5)\n",
        "\n",
        "RMSE_svm_5 = math.sqrt(mean_squared_error(Y_val, Y_predicted_svm_5))\n",
        "disp_RMSE(RMSE_svm_5)\n",
        "\n",
        "MAE_svm_5 = mean_absolute_error(Y_val, Y_predicted_svm_5)\n",
        "disp_MAE(MAE_svm_5)\n",
        "\n",
        "feature_selection_number.append('5')\n",
        "feature_selection_adj_r2.append(r2_score_svm_5)\n",
        "feature_selection_RMSE.append(RMSE_svm_5)\n",
        "feature_selection_MAE.append(MAE_svm_5)\n"
      ],
      "metadata": {
        "colab": {
          "base_uri": "https://localhost:8080/"
        },
        "id": "2NHNFtRaZDDR",
        "outputId": "d87a2ede-ccf5-4918-83f9-706b66666505"
      },
      "execution_count": null,
      "outputs": [
        {
          "output_type": "stream",
          "name": "stdout",
          "text": [
            "R-squared score: 0.9606\n",
            "Adjusted R-squared score: 0.9604\n",
            "Root Mean Squared Error: 0.2335\n",
            "Mean Absolute Error: 0.1816\n"
          ]
        }
      ]
    },
    {
      "cell_type": "code",
      "source": [
        "# SVM linear with 4 most significant features\n",
        "\n",
        "X_train_standardised_4 = X_train_standardised[['abs_mag', 'albedo', 'period', 'aphelion_distance']]\n",
        "X_val_standardised_4 = X_val_standardised[['abs_mag', 'albedo', 'period', 'aphelion_distance']]\n",
        "\n",
        "svmreg4 = svm.SVR(kernel = 'linear')\n",
        "svmreg4.fit(X_train_standardised_4,np.ravel(Y_train)) # training\n",
        "Y_predicted_svm_4 = svmreg4.predict(X_val_standardised_4) # predicting from validation data\n",
        "\n",
        "plot(Y_predicted_svm_4)\n",
        "\n",
        "r2_score_svm_4= r2_score(Y_predicted_svm_4,Y_val)\n",
        "disp_r2_score(r2_score_svm_4)\n",
        "\n",
        "adj_r2_score_svm_4 = adj_r2_score(r2_score_svm_4,len(asteroid_data), 4)\n",
        "disp_adj_r2_score(adj_r2_score_svm_4)\n",
        "\n",
        "RMSE_svm_4 = math.sqrt(mean_squared_error(Y_val, Y_predicted_svm_4))\n",
        "disp_RMSE(RMSE_svm_4)\n",
        "\n",
        "MAE_svm_4 = mean_absolute_error(Y_val, Y_predicted_svm_4)\n",
        "disp_MAE(MAE_svm_4)\n",
        "\n",
        "feature_selection_number.append('4')\n",
        "feature_selection_adj_r2.append(r2_score_svm_4)\n",
        "feature_selection_RMSE.append(RMSE_svm_4)\n",
        "feature_selection_MAE.append(MAE_svm_4)"
      ],
      "metadata": {
        "colab": {
          "base_uri": "https://localhost:8080/",
          "height": 530
        },
        "id": "ASPmWYDrgMCU",
        "outputId": "3615fbe0-9ab2-488d-d2ba-1da7378f21b8"
      },
      "execution_count": null,
      "outputs": [
        {
          "output_type": "stream",
          "name": "stdout",
          "text": [
            "R-squared score: 0.9606\n",
            "Adjusted R-squared score: 0.9604\n",
            "Root Mean Squared Error: 0.2328\n",
            "Mean Absolute Error: 0.1808\n"
          ]
        },
        {
          "output_type": "display_data",
          "data": {
            "text/plain": [
              "<Figure size 1440x504 with 2 Axes>"
            ],
            "image/png": "[encoded data removed]"
          },
          "metadata": {
            "needs_background": "light"
          }
        }
      ]
    },
    {
      "cell_type": "code",
      "source": [
        "# SVM linear with 3 most significant features\n",
        "\n",
        "X_train_standardised_3 = X_train_standardised[['abs_mag', 'albedo', 'period']]\n",
        "X_val_standardised_3 = X_val_standardised[['abs_mag', 'albedo', 'period']]\n",
        "\n",
        "svmreg3 = svm.SVR(kernel = 'linear')\n",
        "svmreg3.fit(X_train_standardised_3,np.ravel(Y_train)) # training\n",
        "Y_predicted_svm_3 = svmreg3.predict(X_val_standardised_3) # predicting from validation data\n",
        "\n",
        "#plot(Y_predicted_svm_3)\n",
        "\n",
        "r2_score_svm_3= r2_score(Y_predicted_svm_3,Y_val)\n",
        "disp_r2_score(r2_score_svm_3)\n",
        "\n",
        "adj_r2_score_svm_3 = adj_r2_score(r2_score_svm_3,len(asteroid_data), 3)\n",
        "disp_adj_r2_score(adj_r2_score_svm_3)\n",
        "\n",
        "RMSE_svm_3 = math.sqrt(mean_squared_error(Y_val, Y_predicted_svm_3))\n",
        "disp_RMSE(RMSE_svm_3)\n",
        "\n",
        "MAE_svm_3 = mean_absolute_error(Y_val, Y_predicted_svm_3)\n",
        "disp_MAE(MAE_svm_3)\n",
        "\n",
        "feature_selection_number.append('3')\n",
        "feature_selection_adj_r2.append(r2_score_svm_3)\n",
        "feature_selection_RMSE.append(RMSE_svm_3)\n",
        "feature_selection_MAE.append(MAE_svm_3)"
      ],
      "metadata": {
        "colab": {
          "base_uri": "https://localhost:8080/"
        },
        "id": "iHCIkHrEgh3U",
        "outputId": "b02756b9-31b9-406b-f761-ae545ad13540"
      },
      "execution_count": null,
      "outputs": [
        {
          "output_type": "stream",
          "name": "stdout",
          "text": [
            "R-squared score: 0.9607\n",
            "Adjusted R-squared score: 0.9606\n",
            "Root Mean Squared Error: 0.2327\n",
            "Mean Absolute Error: 0.1811\n"
          ]
        }
      ]
    },
    {
      "cell_type": "code",
      "source": [
        "# comparing feature selection in a table \n",
        "table_data = list(zip(feature_selection_number,feature_selection_adj_r2,feature_selection_RMSE,feature_selection_MAE,))\n",
        "pd.DataFrame(table_data, columns=['Number of Features in Model','Adjusted R^2 Score', 'Root Mean Square Error', 'Mean Absolute Error'])\n"
      ],
      "metadata": {
        "colab": {
          "base_uri": "https://localhost:8080/",
          "height": 425
        },
        "id": "k7jIDGcLg0K9",
        "outputId": "77723e30-03ae-429d-b44f-2bff7195f790"
      },
      "execution_count": null,
      "outputs": [
        {
          "output_type": "execute_result",
          "data": {
            "text/plain": [
              "   Number of Features in Model  Adjusted R^2 Score  Root Mean Square Error  \\\n",
              "0                           14            0.960422                0.233329   \n",
              "1                           13            0.960411                0.233802   \n",
              "2                           12            0.960303                0.234938   \n",
              "3                           11            0.960305                0.234905   \n",
              "4                           10            0.960289                0.234531   \n",
              "5                            9            0.960502                0.233960   \n",
              "6                            8            0.960717                0.233788   \n",
              "7                            7            0.960706                0.233653   \n",
              "8                            6            0.960707                0.233515   \n",
              "9                            5            0.960609                0.233483   \n",
              "10                           4            0.960560                0.232847   \n",
              "11                           3            0.960710                0.232700   \n",
              "\n",
              "    Mean Absolute Error  \n",
              "0              0.181389  \n",
              "1              0.180160  \n",
              "2              0.180235  \n",
              "3              0.180198  \n",
              "4              0.180087  \n",
              "5              0.180387  \n",
              "6              0.181214  \n",
              "7              0.181062  \n",
              "8              0.180941  \n",
              "9              0.181624  \n",
              "10             0.180765  \n",
              "11             0.181115  "
            ],
            "text/html": [
              "\n",
              "  <div id=\"df-8451b2c4-53f9-4c00-aee3-d2b2929627c4\">\n",
              "    <div class=\"colab-df-container\">\n",
              "      <div>\n",
              "<style scoped>\n",
              "    .dataframe tbody tr th:only-of-type {\n",
              "        vertical-align: middle;\n",
              "    }\n",
              "\n",
              "    .dataframe tbody tr th {\n",
              "        vertical-align: top;\n",
              "    }\n",
              "\n",
              "    .dataframe thead th {\n",
              "        text-align: right;\n",
              "    }\n",
              "</style>\n",
              "<table border=\"1\" class=\"dataframe\">\n",
              "  <thead>\n",
              "    <tr style=\"text-align: right;\">\n",
              "      <th></th>\n",
              "      <th>Number of Features in Model</th>\n",
              "      <th>Adjusted R^2 Score</th>\n",
              "      <th>Root Mean Square Error</th>\n",
              "      <th>Mean Absolute Error</th>\n",
              "    </tr>\n",
              "  </thead>\n",
              "  <tbody>\n",
              "    <tr>\n",
              "      <th>0</th>\n",
              "      <td>14</td>\n",
              "      <td>0.960422</td>\n",
              "      <td>0.233329</td>\n",
              "      <td>0.181389</td>\n",
              "    </tr>\n",
              "    <tr>\n",
              "      <th>1</th>\n",
              "      <td>13</td>\n",
              "      <td>0.960411</td>\n",
              "      <td>0.233802</td>\n",
              "      <td>0.180160</td>\n",
              "    </tr>\n",
              "    <tr>\n",
              "      <th>2</th>\n",
              "      <td>12</td>\n",
              "      <td>0.960303</td>\n",
              "      <td>0.234938</td>\n",
              "      <td>0.180235</td>\n",
              "    </tr>\n",
              "    <tr>\n",
              "      <th>3</th>\n",
              "      <td>11</td>\n",
              "      <td>0.960305</td>\n",
              "      <td>0.234905</td>\n",
              "      <td>0.180198</td>\n",
              "    </tr>\n",
              "    <tr>\n",
              "      <th>4</th>\n",
              "      <td>10</td>\n",
              "      <td>0.960289</td>\n",
              "      <td>0.234531</td>\n",
              "      <td>0.180087</td>\n",
              "    </tr>\n",
              "    <tr>\n",
              "      <th>5</th>\n",
              "      <td>9</td>\n",
              "      <td>0.960502</td>\n",
              "      <td>0.233960</td>\n",
              "      <td>0.180387</td>\n",
              "    </tr>\n",
              "    <tr>\n",
              "      <th>6</th>\n",
              "      <td>8</td>\n",
              "      <td>0.960717</td>\n",
              "      <td>0.233788</td>\n",
              "      <td>0.181214</td>\n",
              "    </tr>\n",
              "    <tr>\n",
              "      <th>7</th>\n",
              "      <td>7</td>\n",
              "      <td>0.960706</td>\n",
              "      <td>0.233653</td>\n",
              "      <td>0.181062</td>\n",
              "    </tr>\n",
              "    <tr>\n",
              "      <th>8</th>\n",
              "      <td>6</td>\n",
              "      <td>0.960707</td>\n",
              "      <td>0.233515</td>\n",
              "      <td>0.180941</td>\n",
              "    </tr>\n",
              "    <tr>\n",
              "      <th>9</th>\n",
              "      <td>5</td>\n",
              "      <td>0.960609</td>\n",
              "      <td>0.233483</td>\n",
              "      <td>0.181624</td>\n",
              "    </tr>\n",
              "    <tr>\n",
              "      <th>10</th>\n",
              "      <td>4</td>\n",
              "      <td>0.960560</td>\n",
              "      <td>0.232847</td>\n",
              "      <td>0.180765</td>\n",
              "    </tr>\n",
              "    <tr>\n",
              "      <th>11</th>\n",
              "      <td>3</td>\n",
              "      <td>0.960710</td>\n",
              "      <td>0.232700</td>\n",
              "      <td>0.181115</td>\n",
              "    </tr>\n",
              "  </tbody>\n",
              "</table>\n",
              "</div>\n",
              "      <button class=\"colab-df-convert\" onclick=\"convertToInteractive('df-8451b2c4-53f9-4c00-aee3-d2b2929627c4')\"\n",
              "              title=\"Convert this dataframe to an interactive table.\"\n",
              "              style=\"display:none;\">\n",
              "        \n",
              "  <svg xmlns=\"http://www.w3.org/2000/svg\" height=\"24px\"viewBox=\"0 0 24 24\"\n",
              "       width=\"24px\">\n",
              "    <path d=\"M0 0h24v24H0V0z\" fill=\"none\"/>\n",
              "    <path d=\"M18.56 5.44l.94 2.06.94-2.06 2.06-.94-2.06-.94-.94-2.06-.94 2.06-2.06.94zm-11 1L8.5 8.5l.94-2.06 2.06-.94-2.06-.94L8.5 2.5l-.94 2.06-2.06.94zm10 10l.94 2.06.94-2.06 2.06-.94-2.06-.94-.94-2.06-.94 2.06-2.06.94z\"/><path d=\"M17.41 7.96l-1.37-1.37c-.4-.4-.92-.59-1.43-.59-.52 0-1.04.2-1.43.59L10.3 9.45l-7.72 7.72c-.78.78-.78 2.05 0 2.83L4 21.41c.39.39.9.59 1.41.59.51 0 1.02-.2 1.41-.59l7.78-7.78 2.81-2.81c.8-.78.8-2.07 0-2.86zM5.41 20L4 18.59l7.72-7.72 1.47 1.35L5.41 20z\"/>\n",
              "  </svg>\n",
              "      </button>\n",
              "      \n",
              "  <style>\n",
              "    .colab-df-container {\n",
              "      display:flex;\n",
              "      flex-wrap:wrap;\n",
              "      gap: 12px;\n",
              "    }\n",
              "\n",
              "    .colab-df-convert {\n",
              "      background-color: #E8F0FE;\n",
              "      border: none;\n",
              "      border-radius: 50%;\n",
              "      cursor: pointer;\n",
              "      display: none;\n",
              "      fill: #1967D2;\n",
              "      height: 32px;\n",
              "      padding: 0 0 0 0;\n",
              "      width: 32px;\n",
              "    }\n",
              "\n",
              "    .colab-df-convert:hover {\n",
              "      background-color: #E2EBFA;\n",
              "      box-shadow: 0px 1px 2px rgba(60, 64, 67, 0.3), 0px 1px 3px 1px rgba(60, 64, 67, 0.15);\n",
              "      fill: #174EA6;\n",
              "    }\n",
              "\n",
              "    [theme=dark] .colab-df-convert {\n",
              "      background-color: #3B4455;\n",
              "      fill: #D2E3FC;\n",
              "    }\n",
              "\n",
              "    [theme=dark] .colab-df-convert:hover {\n",
              "      background-color: #434B5C;\n",
              "      box-shadow: 0px 1px 3px 1px rgba(0, 0, 0, 0.15);\n",
              "      filter: drop-shadow(0px 1px 2px rgba(0, 0, 0, 0.3));\n",
              "      fill: #FFFFFF;\n",
              "    }\n",
              "  </style>\n",
              "\n",
              "      <script>\n",
              "        const buttonEl =\n",
              "          document.querySelector('#df-8451b2c4-53f9-4c00-aee3-d2b2929627c4 button.colab-df-convert');\n",
              "        buttonEl.style.display =\n",
              "          google.colab.kernel.accessAllowed ? 'block' : 'none';\n",
              "\n",
              "        async function convertToInteractive(key) {\n",
              "          const element = document.querySelector('#df-8451b2c4-53f9-4c00-aee3-d2b2929627c4');\n",
              "          const dataTable =\n",
              "            await google.colab.kernel.invokeFunction('convertToInteractive',\n",
              "                                                     [key], {});\n",
              "          if (!dataTable) return;\n",
              "\n",
              "          const docLinkHtml = 'Like what you see? Visit the ' +\n",
              "            '<a target=\"_blank\" href=https://colab.research.google.com/notebooks/data_table.ipynb>data table notebook</a>'\n",
              "            + ' to learn more about interactive tables.';\n",
              "          element.innerHTML = '';\n",
              "          dataTable['output_type'] = 'display_data';\n",
              "          await google.colab.output.renderOutput(dataTable, element);\n",
              "          const docLink = document.createElement('div');\n",
              "          docLink.innerHTML = docLinkHtml;\n",
              "          element.appendChild(docLink);\n",
              "        }\n",
              "      </script>\n",
              "    </div>\n",
              "  </div>\n",
              "  "
            ]
          },
          "metadata": {},
          "execution_count": 55
        }
      ]
    },
    {
      "cell_type": "markdown",
      "source": [
        "# Final SVM (Using test dataset)"
      ],
      "metadata": {
        "id": "Q4HGZvKzyMI5"
      }
    },
    {
      "cell_type": "code",
      "source": [
        "final_comparison_titles = []\n",
        "final_comparison_r2 = []\n",
        "final_comparison_RMSE = []\n",
        "final_comparison_MAE = []"
      ],
      "metadata": {
        "id": "A_YCbGtk0kkA"
      },
      "execution_count": null,
      "outputs": []
    },
    {
      "cell_type": "code",
      "source": [
        "X_test_standardised_4 = X_test_standardised[['abs_mag', 'albedo', 'period', 'aphelion_distance']]\n",
        "\n",
        "Y_predicted_svm_4_test = svmreg4.predict(X_test_standardised_4) # predicting from test data\n",
        "\n",
        "plot_test(Y_predicted_svm_4_test)\n",
        "\n",
        "r2_score_svm_4_test= r2_score(Y_predicted_svm_4_test,Y_test)\n",
        "disp_r2_score(r2_score_svm_4_test)\n",
        "\n",
        "RMSE_svm_4_test = math.sqrt(mean_squared_error(Y_test, Y_predicted_svm_4_test))\n",
        "disp_RMSE(RMSE_svm_4_test)\n",
        "\n",
        "MAE_svm_4_test = mean_absolute_error(Y_test, Y_predicted_svm_4_test)\n",
        "disp_MAE(MAE_svm_4_test)\n",
        "\n",
        "final_comparison_titles.append('Final SVM Regression Model')\n",
        "final_comparison_r2.append(r2_score_svm_4_test)\n",
        "final_comparison_RMSE.append(RMSE_svm_4_test)\n",
        "final_comparison_MAE.append(MAE_svm_4_test)"
      ],
      "metadata": {
        "colab": {
          "base_uri": "https://localhost:8080/",
          "height": 512
        },
        "id": "1CY00GXpyQtz",
        "outputId": "0c5f6075-43ba-4f16-e7cd-83bde9da3dd2"
      },
      "execution_count": null,
      "outputs": [
        {
          "output_type": "stream",
          "name": "stdout",
          "text": [
            "R-squared score: 0.9445\n",
            "Root Mean Squared Error: 0.2497\n",
            "Mean Absolute Error: 0.1878\n"
          ]
        },
        {
          "output_type": "display_data",
          "data": {
            "text/plain": [
              "<Figure size 1440x504 with 2 Axes>"
            ],
            "image/png": "[encoded data removed]"
          },
          "metadata": {
            "needs_background": "light"
          }
        }
      ]
    },
    {
      "cell_type": "markdown",
      "source": [
        "# NASA vs. Final SVM comparison"
      ],
      "metadata": {
        "id": "tNgKl54-EC74"
      }
    },
    {
      "cell_type": "code",
      "source": [
        "nasa_df = X_test[['albedo', 'abs_mag']] # use unstandardised values!!\n",
        "nasa_df[\"nasa_log_d\"] = np.log(10**(3.1236 - 0.5*(np.log10(nasa_df['albedo'])) - (0.2*(nasa_df['abs_mag']))))\n",
        "from sklearn.preprocessing import StandardScaler\n",
        "\n",
        "print(nasa_df)"
      ],
      "metadata": {
        "colab": {
          "base_uri": "https://localhost:8080/"
        },
        "id": "8PLW0JdMJsds",
        "outputId": "dfa617d9-c6a2-44b6-a0ae-976e16b41084"
      },
      "execution_count": null,
      "outputs": [
        {
          "output_type": "stream",
          "name": "stdout",
          "text": [
            "      albedo  abs_mag  nasa_log_d\n",
            "218    0.429    16.52    0.007763\n",
            "353    0.250    15.34    0.821171\n",
            "53     0.405    15.32    0.589168\n",
            "286    0.319    18.64   -0.820400\n",
            "652    0.160    18.30   -0.318816\n",
            "...      ...      ...         ...\n",
            "213    0.048    17.84    0.495008\n",
            "257    0.252    16.25    0.398116\n",
            "201    0.232    15.94    0.582222\n",
            "1171   0.072    21.05   -1.185984\n",
            "832    0.176    21.70   -1.932229\n",
            "\n",
            "[481 rows x 3 columns]\n"
          ]
        },
        {
          "output_type": "stream",
          "name": "stderr",
          "text": [
            "/usr/local/lib/python3.7/dist-packages/ipykernel_launcher.py:2: SettingWithCopyWarning: \n",
            "A value is trying to be set on a copy of a slice from a DataFrame.\n",
            "Try using .loc[row_indexer,col_indexer] = value instead\n",
            "\n",
            "See the caveats in the documentation: https://pandas.pydata.org/pandas-docs/stable/user_guide/indexing.html#returning-a-view-versus-a-copy\n",
            "  \n"
          ]
        }
      ]
    },
    {
      "cell_type": "code",
      "source": [
        "combined_data = {'SVM d':[Y_predicted_svm_4_test][0], 'NASA log d':[nasa_df['nasa_log_d'].to_numpy()][0], 'Real d':[Y_test.to_numpy()][0]}\n",
        "df_comp = pd.DataFrame(combined_data)\n",
        "\n",
        "#from tabulate import tabulate\n",
        "#print(tabulate(df_comp, headers='keys', tablefmt='psql'))\n",
        "\n",
        "plot_test(df_comp['NASA log d'])\n",
        "\n",
        "nasa_r2_score= r2_score(nasa_df['nasa_log_d'],Y_test)\n",
        "disp_r2_score(nasa_r2_score)\n",
        "\n",
        "nasa_RMSE = math.sqrt(mean_squared_error(Y_test, nasa_df['nasa_log_d']))\n",
        "disp_RMSE(nasa_RMSE)\n",
        "\n",
        "nasa_MAE = mean_absolute_error(Y_test, nasa_df['nasa_log_d'])\n",
        "disp_MAE(nasa_MAE)\n",
        "\n",
        "final_comparison_titles.append('NASAs Model')\n",
        "final_comparison_r2.append(nasa_r2_score)\n",
        "final_comparison_RMSE.append(nasa_RMSE)\n",
        "final_comparison_MAE.append(nasa_MAE)"
      ],
      "metadata": {
        "colab": {
          "base_uri": "https://localhost:8080/",
          "height": 512
        },
        "id": "2GktB3NMEIrt",
        "outputId": "db5749b2-6a6a-4714-93bb-8ff920427b95"
      },
      "execution_count": null,
      "outputs": [
        {
          "output_type": "stream",
          "name": "stdout",
          "text": [
            "R-squared score: 0.9841\n",
            "Root Mean Squared Error: 0.1373\n",
            "Mean Absolute Error: 0.0697\n"
          ]
        },
        {
          "output_type": "display_data",
          "data": {
            "text/plain": [
              "<Figure size 1440x504 with 2 Axes>"
            ],
            "image/png": "[encoded data removed]"
          },
          "metadata": {
            "needs_background": "light"
          }
        }
      ]
    },
    {
      "cell_type": "code",
      "source": [
        "table_data = list(zip(final_comparison_titles, final_comparison_r2, final_comparison_RMSE, final_comparison_MAE))\n",
        "pd.DataFrame(table_data, columns=['','R^2 Score', 'Root Mean Square Error', 'Mean Absolute Error'])"
      ],
      "metadata": {
        "colab": {
          "base_uri": "https://localhost:8080/",
          "height": 149
        },
        "id": "U9Mm8EQP17RV",
        "outputId": "7aa60c9c-ebde-43a5-ea1b-cb56fa139944"
      },
      "execution_count": null,
      "outputs": [
        {
          "output_type": "execute_result",
          "data": {
            "text/plain": [
              "                               R^2 Score  Root Mean Square Error  \\\n",
              "0  Final SVM Regression Model   0.944471                0.249745   \n",
              "1                 NASAs Model   0.984143                0.137348   \n",
              "\n",
              "   Mean Absolute Error  \n",
              "0             0.187822  \n",
              "1             0.069719  "
            ],
            "text/html": [
              "\n",
              "  <div id=\"df-2b3fe326-91c6-4b27-914e-17a98f6c0546\">\n",
              "    <div class=\"colab-df-container\">\n",
              "      <div>\n",
              "<style scoped>\n",
              "    .dataframe tbody tr th:only-of-type {\n",
              "        vertical-align: middle;\n",
              "    }\n",
              "\n",
              "    .dataframe tbody tr th {\n",
              "        vertical-align: top;\n",
              "    }\n",
              "\n",
              "    .dataframe thead th {\n",
              "        text-align: right;\n",
              "    }\n",
              "</style>\n",
              "<table border=\"1\" class=\"dataframe\">\n",
              "  <thead>\n",
              "    <tr style=\"text-align: right;\">\n",
              "      <th></th>\n",
              "      <th></th>\n",
              "      <th>R^2 Score</th>\n",
              "      <th>Root Mean Square Error</th>\n",
              "      <th>Mean Absolute Error</th>\n",
              "    </tr>\n",
              "  </thead>\n",
              "  <tbody>\n",
              "    <tr>\n",
              "      <th>0</th>\n",
              "      <td>Final SVM Regression Model</td>\n",
              "      <td>0.944471</td>\n",
              "      <td>0.249745</td>\n",
              "      <td>0.187822</td>\n",
              "    </tr>\n",
              "    <tr>\n",
              "      <th>1</th>\n",
              "      <td>NASAs Model</td>\n",
              "      <td>0.984143</td>\n",
              "      <td>0.137348</td>\n",
              "      <td>0.069719</td>\n",
              "    </tr>\n",
              "  </tbody>\n",
              "</table>\n",
              "</div>\n",
              "      <button class=\"colab-df-convert\" onclick=\"convertToInteractive('df-2b3fe326-91c6-4b27-914e-17a98f6c0546')\"\n",
              "              title=\"Convert this dataframe to an interactive table.\"\n",
              "              style=\"display:none;\">\n",
              "        \n",
              "  <svg xmlns=\"http://www.w3.org/2000/svg\" height=\"24px\"viewBox=\"0 0 24 24\"\n",
              "       width=\"24px\">\n",
              "    <path d=\"M0 0h24v24H0V0z\" fill=\"none\"/>\n",
              "    <path d=\"M18.56 5.44l.94 2.06.94-2.06 2.06-.94-2.06-.94-.94-2.06-.94 2.06-2.06.94zm-11 1L8.5 8.5l.94-2.06 2.06-.94-2.06-.94L8.5 2.5l-.94 2.06-2.06.94zm10 10l.94 2.06.94-2.06 2.06-.94-2.06-.94-.94-2.06-.94 2.06-2.06.94z\"/><path d=\"M17.41 7.96l-1.37-1.37c-.4-.4-.92-.59-1.43-.59-.52 0-1.04.2-1.43.59L10.3 9.45l-7.72 7.72c-.78.78-.78 2.05 0 2.83L4 21.41c.39.39.9.59 1.41.59.51 0 1.02-.2 1.41-.59l7.78-7.78 2.81-2.81c.8-.78.8-2.07 0-2.86zM5.41 20L4 18.59l7.72-7.72 1.47 1.35L5.41 20z\"/>\n",
              "  </svg>\n",
              "      </button>\n",
              "      \n",
              "  <style>\n",
              "    .colab-df-container {\n",
              "      display:flex;\n",
              "      flex-wrap:wrap;\n",
              "      gap: 12px;\n",
              "    }\n",
              "\n",
              "    .colab-df-convert {\n",
              "      background-color: #E8F0FE;\n",
              "      border: none;\n",
              "      border-radius: 50%;\n",
              "      cursor: pointer;\n",
              "      display: none;\n",
              "      fill: #1967D2;\n",
              "      height: 32px;\n",
              "      padding: 0 0 0 0;\n",
              "      width: 32px;\n",
              "    }\n",
              "\n",
              "    .colab-df-convert:hover {\n",
              "      background-color: #E2EBFA;\n",
              "      box-shadow: 0px 1px 2px rgba(60, 64, 67, 0.3), 0px 1px 3px 1px rgba(60, 64, 67, 0.15);\n",
              "      fill: #174EA6;\n",
              "    }\n",
              "\n",
              "    [theme=dark] .colab-df-convert {\n",
              "      background-color: #3B4455;\n",
              "      fill: #D2E3FC;\n",
              "    }\n",
              "\n",
              "    [theme=dark] .colab-df-convert:hover {\n",
              "      background-color: #434B5C;\n",
              "      box-shadow: 0px 1px 3px 1px rgba(0, 0, 0, 0.15);\n",
              "      filter: drop-shadow(0px 1px 2px rgba(0, 0, 0, 0.3));\n",
              "      fill: #FFFFFF;\n",
              "    }\n",
              "  </style>\n",
              "\n",
              "      <script>\n",
              "        const buttonEl =\n",
              "          document.querySelector('#df-2b3fe326-91c6-4b27-914e-17a98f6c0546 button.colab-df-convert');\n",
              "        buttonEl.style.display =\n",
              "          google.colab.kernel.accessAllowed ? 'block' : 'none';\n",
              "\n",
              "        async function convertToInteractive(key) {\n",
              "          const element = document.querySelector('#df-2b3fe326-91c6-4b27-914e-17a98f6c0546');\n",
              "          const dataTable =\n",
              "            await google.colab.kernel.invokeFunction('convertToInteractive',\n",
              "                                                     [key], {});\n",
              "          if (!dataTable) return;\n",
              "\n",
              "          const docLinkHtml = 'Like what you see? Visit the ' +\n",
              "            '<a target=\"_blank\" href=https://colab.research.google.com/notebooks/data_table.ipynb>data table notebook</a>'\n",
              "            + ' to learn more about interactive tables.';\n",
              "          element.innerHTML = '';\n",
              "          dataTable['output_type'] = 'display_data';\n",
              "          await google.colab.output.renderOutput(dataTable, element);\n",
              "          const docLink = document.createElement('div');\n",
              "          docLink.innerHTML = docLinkHtml;\n",
              "          element.appendChild(docLink);\n",
              "        }\n",
              "      </script>\n",
              "    </div>\n",
              "  </div>\n",
              "  "
            ]
          },
          "metadata": {},
          "execution_count": 60
        }
      ]
    }
  ]
}